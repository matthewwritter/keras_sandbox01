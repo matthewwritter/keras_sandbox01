{
 "cells": [
  {
   "cell_type": "markdown",
   "metadata": {},
   "source": [
    "**Insights**\n",
    "* The big problem I'm trying to solve here is to make the relatively complex system of NNs for NLP something I cant 'wrap my head around'\n",
    "    * It's about learning, and one of the critical concepts in human learning is 'chunking'. So I've got three layers here: \n",
    "        * Top: \"string of text\" ==(NN system)==> username of interest [Y/N]\n",
    "        * Second: Collection of scripts with input/knobs/dials/outputs\n",
    "        * Third: Code itself, presented as close to linearly as possible\n",
    "        * Important to not try going too deep (I made this mistake with bash tools). Once you've got some solid abstractions that give you flexibility and don't seem to leak, extend rather than deepening knowledge\n",
    "    * Connections to concrete concepts that I already know are also key, so making the inputs/outputs clear in examples using Python datatypes that I'm comfortable with will help grasp the abstract transforms \n",
    "    * Reenforcement is key, so I'll try to copy this and apply it to a different problem almost as soon as I'm done\n",
    "    * The problem with many other systems is that, in an admirable effort to be modular, they force you to jump 3-7 levels deep within functions to get to the actual Python code (the concrete concept). From the main script, it can take several minutes to trace how an input and parameter actually get combined into an output.\n",
    "        * Even if effort was made to document, there's a \"curse of knowledge\" issue that makes it difficult to grasp the particulars without the mental model that the original writer had\n",
    "    * Goal is to find the mental models where I can look at other people's output (code), break it down quickly and accurately, identify what's new about it, and how i could update my design process to take advantage of anything that I don't yet have\n",
    "        * [This twitter thread](https://twitter.com/michael_nielsen/status/1074150124169773056) talks about meeting 'magicians' who are better in ways that you can't comprehend, then working to understand the implicit models that allow them to be 10x better. You probably can't do it just from their work, you need to communicate on a more abstract level. How do I do that here?\n",
    "    * Get solid on one simple approach, and then identify ways to extend it that I don't fully understand yet. Nailing down specific questions, \"I would have expected X, but I'm seeing Y - what's going on?\" is critical\n",
    "* There's huge value in having a single file where you can see everything, whether it's a diagram, makefile or Jupyter notebook\n",
    "* Need to identify what needs to be flexible. Passing a trivial amount of data e2e should be very doable. Then building on that, so that the data is essentially flowing (not moving in massive blocks)\n",
    "* From a documentation standpoint, unit tests waste too much time on the edge cases. At the very least, the top test should always be 'happy path' so you can see what it _should_ look like. Then there needs to be a connection between files\n",
    "    * This is much more possible for data pipelines than application code, so it's under-developed\n",
    "* One big thing that I think I lack is an intuitive sense of what's \"expensive\", in terms of Disk, IO, RAM and Compute (are there other limited resources?)\n",
    "    * Is streaming data from a server going to be a bottleneck?\n",
    "    * Is it computationally expensive to open a bunch of little data files, instead of one big one?"
   ]
  },
  {
   "cell_type": "code",
   "execution_count": 1,
   "metadata": {},
   "outputs": [],
   "source": [
    "###\n",
    "# META\n",
    "###\n",
    "\n",
    "import h5py, bz2, json, tqdm, re\n",
    "import numpy as np\n",
    "\n",
    "DATADIR = '/home/mritter/code/twitter_nlp/sandbox_data02/'\n",
    "NUM_SAMPLES = 10\n",
    "SKIP_FIRST = 1000"
   ]
  },
  {
   "cell_type": "code",
   "execution_count": 2,
   "metadata": {},
   "outputs": [
    {
     "name": "stderr",
     "output_type": "stream",
     "text": [
      "\r",
      "0it [00:00, ?it/s]"
     ]
    },
    {
     "name": "stdout",
     "output_type": "stream",
     "text": [
      "HNI_2006-10\n"
     ]
    },
    {
     "name": "stderr",
     "output_type": "stream",
     "text": [
      "2it [00:00,  4.51it/s]"
     ]
    },
    {
     "name": "stdout",
     "output_type": "stream",
     "text": [
      "61\n",
      "HNI_2006-12\n",
      "62\n",
      "HNI_2007-02\n",
      "1010\n"
     ]
    },
    {
     "name": "stderr",
     "output_type": "stream",
     "text": [
      "\n"
     ]
    }
   ],
   "source": [
    "# download_data.py\n",
    "\n",
    "# Input\n",
    "manifest_filename = 'manifest.txt'\n",
    "server_url = 'https://files.pushshift.io/hackernews/'\n",
    "\n",
    "# Knobs\n",
    "test_pct = .5\n",
    "\n",
    "# Output\n",
    "raw_data = 'raw_data'\n",
    "\n",
    "\n",
    "from requests import get\n",
    "\n",
    "np.random.seed = 42\n",
    "stop = False\n",
    "sample_l = []\n",
    "with open(DATADIR+manifest_filename) as infile:\n",
    "    for line in tqdm.tqdm(infile):  # Dial\n",
    "        remote_filename = line.split()[1]\n",
    "        print(remote_filename)\n",
    "        as_bytes = get(server_url+remote_filename+'.bz2').content\n",
    "        as_text = bz2.decompress(as_bytes)\n",
    "        for sample in as_text.split(b'\\n'):\n",
    "            if not len(sample): continue\n",
    "            sample_l.append(sample.decode(\"ascii\", \"ignore\"))\n",
    "            if len(sample_l) >= (SKIP_FIRST + NUM_SAMPLES):\n",
    "                stop = True\n",
    "            if stop: break\n",
    "        print(len(sample_l))\n",
    "        if stop: break\n",
    "            \n",
    "sample_l = sample_l[SKIP_FIRST:]\n",
    "np.random.shuffle(sample_l)"
   ]
  },
  {
   "cell_type": "code",
   "execution_count": 3,
   "metadata": {},
   "outputs": [
    {
     "name": "stdout",
     "output_type": "stream",
     "text": [
      "{\"by\":\"rms\",\"id\":1006,\"parent\":928,\"retrieved_on\":1525542114,\"text\":\"It's bad if you come out of the Techstars program without any funding and a non-sustainable company, but then you're probably screwed anyways. VCs are infamously inscrutable; we hear that they are always out to take advantage of naive or underfunded companies.<p>If you're good enough to get further investment after Techstars, you get it from a VC that you already know instead of having to deal with the typical painful negotiations. And if Brad Feld's Foundry Group will give you money, maybe you could get Bay Area VC money. Even better, the best companies will get to reinvest their own profits.\",\"time\":1172403958,\"type\":\"comment\"}\n",
      "== shuffling ==\n",
      "{\"by\":\"msgbeepa\",\"descendants\":0,\"id\":1008,\"retrieved_on\":1525542115,\"score\":1,\"time\":1172410393,\"title\":\"Great Way To Find New Job And Career\",\"type\":\"story\",\"url\":\"http:\\/\\/www.wikio.com\\/webinfo?id=13628228\"}\n"
     ]
    }
   ],
   "source": [
    "print(sample_l[0])\n",
    "print('== shuffling ==')\n",
    "np.random.seed = 42\n",
    "np.random.shuffle(sample_l)\n",
    "print(sample_l[0])"
   ]
  },
  {
   "cell_type": "code",
   "execution_count": 4,
   "metadata": {},
   "outputs": [],
   "source": [
    "test_ix = int(len(sample_l)*test_pct)\n",
    "\n",
    "with open(DATADIR+raw_data+'_train.jsonl', 'w') as outfile:\n",
    "    outfile.write('\\n'.join(sample_l[test_ix:]))\n",
    "        \n",
    "with open(DATADIR+raw_data+'_test.jsonl', 'w') as outfile:\n",
    "    outfile.write('\\n'.join(sample_l[:test_ix]))"
   ]
  },
  {
   "cell_type": "code",
   "execution_count": 5,
   "metadata": {},
   "outputs": [
    {
     "name": "stdout",
     "output_type": "stream",
     "text": [
      "-rw-rw-r-- 1 mritter mritter 1016 Jan 26 20:59 sandbox_data/raw_data_test.jsonl\r\n",
      "-rw-rw-r-- 1 mritter mritter 2.1K Jan 26 20:59 sandbox_data/raw_data_train.jsonl\r\n"
     ]
    }
   ],
   "source": [
    "! ls -lah sandbox_data/*jsonl"
   ]
  },
  {
   "cell_type": "code",
   "execution_count": 6,
   "metadata": {},
   "outputs": [
    {
     "name": "stdout",
     "output_type": "stream",
     "text": [
      "   4 sandbox_data/raw_data_test.jsonl\r\n",
      "   4 sandbox_data/raw_data_train.jsonl\r\n",
      "   8 total\r\n"
     ]
    }
   ],
   "source": [
    "! wc -l sandbox_data/*jsonl"
   ]
  },
  {
   "cell_type": "code",
   "execution_count": 7,
   "metadata": {},
   "outputs": [
    {
     "name": "stdout",
     "output_type": "stream",
     "text": [
      "==> sandbox_data/raw_data_test.jsonl <==\r\n",
      "{\"by\":\"phil\",\"id\":1003,\"parent\":955,\"retrieved_on\":1525542114,\"text\":\"8.3% of what they did in 2005: wow.\",\"time\":1172399687,\"type\":\"comment\"}\r\n",
      "{\"by\":\"python_kiss\",\"descendants\":0,\"id\":1002,\"retrieved_on\":1525542114,\"score\":2,\"time\":1172397259,\"title\":\"The Battle for Mobile Search\",\"type\":\"story\",\"url\":\"http:\\/\\/www.businessweek.com\\/technology\\/content\\/feb2007\\/tc20070220_828216.htm?campaign_id=rss_daily\"}\r\n",
      "{\"by\":\"volida\",\"id\":1010,\"parent\":856,\"retrieved_on\":1525542115,\"text\":\"Ebay bought its Chinese clone for hundreds of millions of dollars\",\"time\":1172413027,\"type\":\"comment\"}\r\n",
      "{\"by\":\"msgbeepa\",\"descendants\":0,\"id\":1008,\"retrieved_on\":1525542115,\"score\":1,\"time\":1172410393,\"title\":\"Great Way To Find New Job And Career\",\"type\":\"story\",\"url\":\"http:\\/\\/www.wikio.com\\/webinfo?id=13628228\"}\r\n",
      "{\"by\":\"python_kiss\",\"descendants\":0,\"id\":1001,\"retrieved_on\":1525542114,\"score\":3,\"time\":1172396128,\"title\":\"Wireless: India's Hot, China's Not\",\"type\":\"story\",\"url\":\"http:\\/\\/www.redherring.com\\/Article.aspx?a=21355\"}\r\n",
      "==> sandbox_data/raw_data_train.jsonl <==\r\n",
      "{\"by\":\"volida\",\"id\":1009,\"parent\":856,\"retrieved_on\":1525542115,\"text\":\"Ebay bought its Chinese clone for hundreds of millions of dollars, which afterwards collapsed because after moving the servers outside China the service's data were going through word filtering (e.g. during login) and there were failures...\\n\",\"time\":1172412920,\"type\":\"comment\"}\r\n",
      "{\"by\":\"rms\",\"descendants\":3,\"id\":1005,\"kids\":[1023,1067],\"retrieved_on\":1525542114,\"score\":6,\"time\":1172400839,\"title\":\"CRV Quickstart:   $250,000 in seed stage financing. How does an 18 year old entrepreneur find references to list on the application?\",\"type\":\"story\",\"url\":\"http:\\/\\/www.crv.com\\/AboutCRV\\/QuickStart.html\"}\r\n",
      "{\"by\":\"rms\",\"descendants\":10,\"id\":1007,\"kids\":[1025],\"retrieved_on\":1525542114,\"score\":9,\"time\":1172404841,\"title\":\"What algorithm does news.YC use to filter spam?\",\"type\":\"story\"}\r\n",
      "{\"by\":\"dngrmouse\",\"id\":1004,\"parent\":363,\"retrieved_on\":1525542114,\"text\":\"1. Have it so you can be automatically logged in. I have to manually log in every time I visit the site (using Safari here).<p>2. Just like Reddit does, show the domain each link belongs to. Reddit has this in brackets after the headline, which works fine. Since I don't have much free time, there are some sites that have sub-par content which I avoid reading, and it helps to know where I would end up without having to hover over the link.\",\"time\":1172400507,\"type\":\"comment\"}\r\n",
      "{\"by\":\"rms\",\"id\":1006,\"parent\":928,\"retrieved_on\":1525542114,\"text\":\"It's bad if you come out of the Techstars program without any funding and a non-sustainable company, but then you're probably screwed anyways. VCs are infamously inscrutable; we hear that they are always out to take advantage of naive or underfunded companies.<p>If you're good enough to get further investment after Techstars, you get it from a VC that you already know instead of having to deal with the typical painful negotiations. And if Brad Feld's Foundry Group will give you money, maybe you could get Bay Area VC money. Even better, the best companies will get to reinvest their own profits.\",\"time\":1172403958,\"type\":\"comment\"}"
     ]
    }
   ],
   "source": [
    "! head sandbox_data/*jsonl"
   ]
  },
  {
   "cell_type": "code",
   "execution_count": 8,
   "metadata": {},
   "outputs": [
    {
     "name": "stderr",
     "output_type": "stream",
     "text": [
      "5it [00:00, 6691.61it/s]"
     ]
    },
    {
     "name": "stdout",
     "output_type": "stream",
     "text": [
      "101\n",
      "83\n"
     ]
    },
    {
     "name": "stderr",
     "output_type": "stream",
     "text": [
      "\n"
     ]
    }
   ],
   "source": [
    "# preprocess_txt.py\n",
    "\n",
    "# Input\n",
    "raw_data = 'raw_data_train.jsonl'\n",
    "\n",
    "# Knobs\n",
    "status = 'training'\n",
    "filter_bool = ('type', 'comment') \n",
    "split_regex = r' |\\.'\n",
    "remove_regex = r\"\\'|\\\"|,|\\.|\\n|\\/|&#\\d\\d;|\\(|\\)\"\n",
    "tag_patterns = {'http.*\\w':' <LINK> '}\n",
    "positive_labels = ('pg', 'patio11', 'volida')\n",
    "sequence_length = 300\n",
    "\n",
    "# Output\n",
    "preprocessed_data = 'preprocessed.txt'\n",
    "label_file = 'label_and_index.h5'\n",
    "\n",
    "import re\n",
    "\n",
    "labels = []\n",
    "original_ids = []\n",
    "\n",
    "with open(DATADIR+raw_data, 'r') as infile:\n",
    "    with open(DATADIR+preprocessed_data, 'w') as outfile:\n",
    "        for line in tqdm.tqdm(infile):  # Dial\n",
    "            line_json = json.loads(line)\n",
    "\n",
    "            if line_json[filter_bool[0]] != filter_bool[1]: continue\n",
    "            temp_text = line_json['text']\n",
    "            temp_text = temp_text.lower()\n",
    "            for key, value in tag_patterns.items():\n",
    "                temp_text = re.sub(key, value, temp_text)\n",
    "            text = re.split(split_regex, re.sub(remove_regex, '', temp_text))\n",
    "            print(len(text))\n",
    "            text += ['']*(sequence_length-len(text))\n",
    "            text += ['\\n']\n",
    "            outfile.write(','.join(text))\n",
    "            \n",
    "            if status == 'training':\n",
    "                labels.append((1, 0) if line_json['by'] in positive_labels else (0, 1))  # Not generalizable\n",
    "                original_ids.append(line_json['id'])\n",
    "            \n",
    "if status == 'training':\n",
    "    with h5py.File(DATADIR+label_file, \"w\") as f:\n",
    "        f.create_dataset('training_labels', (len(labels), 2), dtype='int', data=labels)\n",
    "        f.create_dataset('ordered_keys', (len(original_ids), 1), dtype='int', data=original_ids)\n",
    "    "
   ]
  },
  {
   "cell_type": "code",
   "execution_count": 9,
   "metadata": {},
   "outputs": [
    {
     "name": "stdout",
     "output_type": "stream",
     "text": [
      "ebay,bought,its,chinese,clone,for,hundreds,of,millions,of,dollars,which,afterwards,collapsed,because,after,moving,the,servers,outside,china,the,services,data,were,going,through,word,filtering,(eg,during,login),and,there,were,failures,,,,,,,,,,,,,,,,,,,,,,,,,,,,,,,,,,,,,,,,,,,,,,,,,,,,,,,,,,,,,,,,,,,,,,,,,,,,,,,,,,,,,,,,,,,,,,,,,,,,,,,,,,,,,,,,,,,,,,,,,,,,,,,,,,,,,,,,,,,,,,,,,,,,,,,,,,,,,,,,,,,,,,,,,,,,,,,,,,,,,,,,,,,,,,,,,,,,,,,,,,,,,,,,,,,,,,,,,,,,,,,,,,,,,,,,,,,,,,,,,,,,,,,,,,,,,,,,,,,,,,,,,\r\n",
      "1,have,it,so,you,can,be,automatically,logged,in,i,have,to,manually,log,in,every,time,i,visit,the,site,(using,safari,here)<p>2,just,like,reddit,does,show,the,domain,each,link,belongs,to,reddit,has,this,in,brackets,after,the,headline,which,works,fine,since,i,dont,have,much,free,time,there,are,some,sites,that,have,sub-par,content,which,i,avoid,reading,and,it,helps,to,know,where,i,would,end,up,without,having,to,hover,over,the,link,,,,,,,,,,,,,,,,,,,,,,,,,,,,,,,,,,,,,,,,,,,,,,,,,,,,,,,,,,,,,,,,,,,,,,,,,,,,,,,,,,,,,,,,,,,,,,,,,,,,,,,,,,,,,,,,,,,,,,,,,,,,,,,,,,,,,,,,,,,,,,,,,,,,,,,,,,,,,,,,,,,,,,,,,,,,,,,,,,,,,,,,,,,,,,,,,,,,,,,,,,,,,,,,,,,,,,,,,,\r\n"
     ]
    }
   ],
   "source": [
    "!head -2 sandbox_data/preprocessed.txt"
   ]
  },
  {
   "cell_type": "markdown",
   "metadata": {},
   "source": [
    "_insight_: w2v is generated with a simple NN autoencoder"
   ]
  },
  {
   "cell_type": "code",
   "execution_count": 10,
   "metadata": {},
   "outputs": [
    {
     "name": "stderr",
     "output_type": "stream",
     "text": [
      "2019-01-27 06:31:10,086 : WARNING : consider setting layer size to a multiple of 4 for greater performance\n",
      "2019-01-27 06:31:10,087 : INFO : collecting all words and their counts\n",
      "2019-01-27 06:31:10,088 : INFO : PROGRESS: at sentence #0, processed 0 words, keeping 0 word types\n",
      "2019-01-27 06:31:10,088 : INFO : collected 128 word types from a corpus of 184 raw words and 3 sentences\n",
      "2019-01-27 06:31:10,089 : INFO : Loading a fresh vocabulary\n",
      "2019-01-27 06:31:10,090 : INFO : min_count=1 retains 128 unique words (100% of original 128, drops 0)\n",
      "2019-01-27 06:31:10,091 : INFO : min_count=1 leaves 184 word corpus (100% of original 184, drops 0)\n",
      "2019-01-27 06:31:10,092 : INFO : deleting the raw counts dictionary of 128 items\n",
      "2019-01-27 06:31:10,093 : INFO : sample=0.001 downsamples 128 most-common words\n",
      "2019-01-27 06:31:10,094 : INFO : downsampling leaves estimated 86 word corpus (47.1% of prior 184)\n",
      "2019-01-27 06:31:10,095 : INFO : estimated required memory for 128 words and 2 dimensions: 66048 bytes\n",
      "2019-01-27 06:31:10,096 : INFO : resetting layer weights\n",
      "2019-01-27 06:31:10,099 : INFO : training model with 2 workers on 128 vocabulary and 2 features, using sg=0 hs=0 sample=0.001 negative=5 window=5\n",
      "2019-01-27 06:31:10,102 : INFO : worker thread finished; awaiting finish of 1 more threads\n",
      "2019-01-27 06:31:10,102 : INFO : worker thread finished; awaiting finish of 0 more threads\n",
      "2019-01-27 06:31:10,103 : INFO : EPOCH - 1 : training on 184 raw words (81 effective words) took 0.0s, 98138 effective words/s\n",
      "2019-01-27 06:31:10,103 : INFO : training on a 184 raw words (81 effective words) took 0.0s, 24203 effective words/s\n",
      "2019-01-27 06:31:10,103 : WARNING : under 10 jobs per worker: consider setting a smaller `batch_words' for smoother alpha decay\n"
     ]
    }
   ],
   "source": [
    "# train_w2v.py\n",
    "\n",
    "# Input\n",
    "preprocessed_data = 'preprocessed.txt'\n",
    "\n",
    "#Knobs\n",
    "embedding_dim = 2\n",
    "\n",
    "# Output\n",
    "w2v_weights_and_word_index_mapping = 'w2v_weights_and_word_index_mapping.h5'\n",
    "\n",
    "import logging\n",
    "from gensim.models import Word2Vec\n",
    "\n",
    "logger= logging.getLogger()  # Dial\n",
    "logging.basicConfig(format='%(asctime)s : %(levelname)s : %(message)s', level=logging.INFO)\n",
    "\n",
    "\n",
    "class W2VIter:\n",
    "    def __init__(self, texts):\n",
    "        self.texts = texts\n",
    "    def __iter__(self):\n",
    "        for text in self.texts:\n",
    "            yield [token for token in text.split(',') if token != '']\n",
    "\n",
    "with open(DATADIR+preprocessed_data, 'r') as f:\n",
    "    w2viter = W2VIter(f.read().split('\\n'))\n",
    "\n",
    "w2v = Word2Vec(w2viter, iter=1, min_count=1, size=embedding_dim, workers=2)"
   ]
  },
  {
   "cell_type": "code",
   "execution_count": 11,
   "metadata": {},
   "outputs": [
    {
     "data": {
      "text/plain": [
       "dict_keys(['its', 'bad', 'if', 'you', 'come', 'out', 'of', 'the', 'techstars', 'program', 'without', 'any', 'funding', 'and', 'a', 'non-sustainable', 'company', 'but', 'then', 'youre', 'probably', 'screwed', 'anyways', 'vcs', 'are', 'infamously', 'inscrutable;', 'we', 'hear', 'that', 'they', 'always', 'to', 'take', 'advantage', 'naive', 'or', 'underfunded', 'companies<p>if', 'good', 'enough', 'get', 'further', 'investment', 'after', 'it', 'from', 'vc', 'already', 'know', 'instead', 'having', 'deal', 'with', 'typical', 'painful', 'negotiations', 'brad', 'felds', 'foundry', 'group', 'will', 'give', 'money', 'maybe', 'could', 'bay', 'area', 'even', 'better', 'best', 'companies', 'reinvest', 'their', 'own', 'profits', '1', 'have', 'so', 'can', 'be', 'automatically', 'logged', 'in', 'i', 'manually', 'log', 'every', 'time', 'visit', 'site', '(using', 'safari', 'here)<p>2', 'just', 'like', 'reddit', 'does', 'show', 'domain', 'each', 'link', 'belongs', 'has', 'this', 'brackets', 'headline', 'which', 'works', 'fine', 'since', 'dont', 'much', 'free', 'there', 'some', 'sites', 'sub-par', 'content', 'avoid', 'reading', 'helps', 'where', 'would', 'end', 'up', 'hover', 'over'])"
      ]
     },
     "execution_count": 11,
     "metadata": {},
     "output_type": "execute_result"
    }
   ],
   "source": [
    "w2v.wv.vocab.keys()  # Dial"
   ]
  },
  {
   "cell_type": "code",
   "execution_count": 12,
   "metadata": {},
   "outputs": [
    {
     "name": "stderr",
     "output_type": "stream",
     "text": [
      "2019-01-27 06:31:10,184 : INFO : saving Word2Vec object under /home/mritter/code/twitter_nlp/sandbox_data02/myw2v.w2v, separately None\n",
      "2019-01-27 06:31:10,184 : INFO : not storing attribute vectors_norm\n",
      "2019-01-27 06:31:10,185 : INFO : not storing attribute cum_table\n",
      "2019-01-27 06:31:10,186 : INFO : saved /home/mritter/code/twitter_nlp/sandbox_data02/myw2v.w2v\n",
      "2019-01-27 06:31:10,187 : INFO : loading Word2Vec object from /home/mritter/code/twitter_nlp/sandbox_data02/myw2v.w2v\n",
      "2019-01-27 06:31:10,189 : INFO : loading wv recursively from /home/mritter/code/twitter_nlp/sandbox_data02/myw2v.w2v.wv.* with mmap=None\n",
      "2019-01-27 06:31:10,189 : INFO : setting ignored attribute vectors_norm to None\n",
      "2019-01-27 06:31:10,189 : INFO : loading vocabulary recursively from /home/mritter/code/twitter_nlp/sandbox_data02/myw2v.w2v.vocabulary.* with mmap=None\n",
      "2019-01-27 06:31:10,190 : INFO : loading trainables recursively from /home/mritter/code/twitter_nlp/sandbox_data02/myw2v.w2v.trainables.* with mmap=None\n",
      "2019-01-27 06:31:10,190 : INFO : setting ignored attribute cum_table to None\n",
      "2019-01-27 06:31:10,190 : INFO : loaded /home/mritter/code/twitter_nlp/sandbox_data02/myw2v.w2v\n"
     ]
    },
    {
     "name": "stdout",
     "output_type": "stream",
     "text": [
      "[-0.04180845  0.16618642]\n",
      "to the you\n",
      "Index of \"you\" is: 2\n",
      "Index of \"you\" is: 2\n"
     ]
    }
   ],
   "source": [
    "print(w2v.wv['you'][:5])\n",
    "print(w2v.wv.index2word[0], w2v.wv.index2word[1], w2v.wv.index2word[2])\n",
    "print('Index of \"you\" is: {}'.format(w2v.wv.vocab['you'].index))\n",
    "w2v.save(DATADIR+\"myw2v.w2v\")\n",
    "w2v_loaded = Word2Vec.load(DATADIR+\"myw2v.w2v\")\n",
    "print('Index of \"you\" is: {}'.format(w2v_loaded.wv.vocab['you'].index))"
   ]
  },
  {
   "cell_type": "code",
   "execution_count": 13,
   "metadata": {},
   "outputs": [
    {
     "name": "stdout",
     "output_type": "stream",
     "text": [
      "(128, 2)\n",
      "[[ 0.08827608  0.07235566]\n",
      " [ 0.16086549 -0.03138757]\n",
      " [-0.04180845  0.16618642]\n",
      " [-0.2284739   0.09721434]\n",
      " [ 0.11949734  0.12733078]]\n"
     ]
    },
    {
     "data": {
      "text/plain": [
       "<matplotlib.collections.PathCollection at 0x7eff67dfbba8>"
      ]
     },
     "execution_count": 13,
     "metadata": {},
     "output_type": "execute_result"
    },
    {
     "data": {
      "image/png": "[encoded data removed]",
      "text/plain": [
       "<Figure size 432x288 with 1 Axes>"
      ]
     },
     "metadata": {
      "needs_background": "light"
     },
     "output_type": "display_data"
    }
   ],
   "source": [
    "%matplotlib inline\n",
    "import matplotlib.pyplot as plt\n",
    "\n",
    "l = []\n",
    "for i, token in enumerate(w2v.wv.index2word): l.append(w2v.wv[token])\n",
    "weights = np.array(l)\n",
    "print(weights.shape)\n",
    "print(weights[:5, :5])\n",
    "\n",
    "plt.scatter(weights[:, 0], weights[:, 1])"
   ]
  },
  {
   "cell_type": "code",
   "execution_count": 14,
   "metadata": {},
   "outputs": [],
   "source": [
    "import h5py\n",
    "\n",
    "with h5py.File(DATADIR+w2v_weights_and_word_index_mapping, \"w\") as f:\n",
    "    f.create_dataset('weights', weights.shape, dtype='f', data=weights)\n",
    "    for word in w2v.wv.vocab.keys():\n",
    "        f.create_dataset('word_to_index/{}'.format(word), (1,), dtype='int', data=w2v.wv.vocab[word].index)\n",
    "    f.create_dataset('metadata/embedding_dim', (1,), dtype='int', data=embedding_dim)\n",
    "    f.create_dataset('metadata/max_token', (1,), dtype='int', data=weights.shape[0]+1)\n",
    "    f.create_dataset('metadata/sequence_length', (1,), dtype='int', data=sequence_length)"
   ]
  },
  {
   "cell_type": "code",
   "execution_count": 15,
   "metadata": {},
   "outputs": [
    {
     "name": "stdout",
     "output_type": "stream",
     "text": [
      "['(using', '1', 'a', 'advantage', 'after']\n",
      "[2]\n"
     ]
    }
   ],
   "source": [
    "with h5py.File(DATADIR+w2v_weights_and_word_index_mapping, \"r\") as f:\n",
    "    print(list(f['word_to_index'].keys())[:5])\n",
    "    print(f['word_to_index']['you'][()])"
   ]
  },
  {
   "cell_type": "code",
   "execution_count": 16,
   "metadata": {},
   "outputs": [
    {
     "name": "stdout",
     "output_type": "stream",
     "text": [
      "[28. 29. 12.  2. 30.]\n"
     ]
    },
    {
     "name": "stderr",
     "output_type": "stream",
     "text": [
      "/home/mritter/anaconda3/envs/tf_gpu_test04/lib/python3.6/site-packages/h5py/_hl/dataset.py:313: H5pyDeprecationWarning: dataset.value has been deprecated. Use dataset[()] instead.\n",
      "  \"Use dataset[()] instead.\", H5pyDeprecationWarning)\n"
     ]
    }
   ],
   "source": [
    "# index_text.py\n",
    "\n",
    "# Input\n",
    "w2v_weights_and_word_index_mapping = 'w2v_weights_and_word_index_mapping.h5'\n",
    "preprocessed_data = 'preprocessed.txt'\n",
    "\n",
    "# Knobs\n",
    "pass\n",
    "\n",
    "# Output \n",
    "indexed_filename = 'indexed.h5'\n",
    "\n",
    "with h5py.File(DATADIR+w2v_weights_and_word_index_mapping, \"r\") as index:\n",
    "    with open(DATADIR+preprocessed_data, \"r\") as textfile:\n",
    "        \n",
    "        text_lines = textfile.read().split('\\n')\n",
    "        indexed = np.zeros(shape=(len(text_lines)-1, index['metadata']['sequence_length'].value[0]))\n",
    "        keys = index['word_to_index'].keys()\n",
    "        for line_ix, wordlist in enumerate(text_lines):\n",
    "            for word_ix, word in enumerate(wordlist.split(',')):\n",
    "                if word in keys:\n",
    "                    indexed[line_ix, word_ix] = index['word_to_index'][word][()]\n",
    "        \n",
    "    print(indexed[0, :5])  # Dial\n",
    "\n",
    "    with h5py.File(DATADIR+indexed_filename, \"w\") as f:\n",
    "        f.create_dataset('training_data', \n",
    "                         indexed.shape, \n",
    "                         dtype='int', data=indexed)"
   ]
  },
  {
   "cell_type": "code",
   "execution_count": 17,
   "metadata": {},
   "outputs": [
    {
     "name": "stderr",
     "output_type": "stream",
     "text": [
      "Using TensorFlow backend.\n"
     ]
    },
    {
     "name": "stdout",
     "output_type": "stream",
     "text": [
      "_________________________________________________________________\n",
      "Layer (type)                 Output Shape              Param #   \n",
      "=================================================================\n",
      "input_1 (InputLayer)         (None, 300)               0         \n",
      "_________________________________________________________________\n",
      "embedding_1 (Embedding)      (None, 300, 2)            258       \n",
      "_________________________________________________________________\n",
      "dense_2 (Dense)              (None, 300, 32)           96        \n",
      "_________________________________________________________________\n",
      "flatten_1 (Flatten)          (None, 9600)              0         \n",
      "_________________________________________________________________\n",
      "dense_3 (Dense)              (None, 2)                 19202     \n",
      "=================================================================\n",
      "Total params: 19,556\n",
      "Trainable params: 19,298\n",
      "Non-trainable params: 258\n",
      "_________________________________________________________________\n",
      "None\n"
     ]
    }
   ],
   "source": [
    "# model.py\n",
    "\n",
    "# Inputs\n",
    "w2v_weights_and_word_index_mapping = 'w2v_weights_and_word_index_mapping.h5'\n",
    "training_file = 'indexed.h5'\n",
    "\n",
    "# Knobs\n",
    "pass  # The whole thing, to some extent\n",
    "\n",
    "# Outputs\n",
    "compiled_model = 'compiled_model.keras'\n",
    "\n",
    "\n",
    "with h5py.File(DATADIR+w2v_weights_and_word_index_mapping, \"r\") as f:\n",
    "    embedding_matrix = f['weights'][()]\n",
    "    embedding_dim = f['metadata/embedding_dim'][0]\n",
    "    num_distinct_words = f['metadata/max_token'][0]\n",
    "    sequence_length = f['metadata/sequence_length'][0]\n",
    "    \n",
    "from keras.models import Sequential\n",
    "from keras.layers import Dense, Input, Embedding, Flatten\n",
    "from keras.initializers import Constant\n",
    "from keras.models import Model\n",
    "\n",
    "\n",
    "sequence_input = Input(shape=(sequence_length,), dtype='int32')\n",
    "\n",
    "embedded_sequences = Embedding(num_distinct_words,\n",
    "                            embedding_dim,\n",
    "                            embeddings_initializer=Constant(embedding_matrix),\n",
    "                            input_length=sequence_length,\n",
    "                            trainable=False)(sequence_input)\n",
    "\n",
    "x = Dense(units=64, activation='relu')(embedded_sequences)\n",
    "x = Dense(units=32, activation='relu')(embedded_sequences)\n",
    "x = Flatten()(x)\n",
    "preds = Dense(units=2, activation='softmax')(x)\n",
    "\n",
    "model = Model(sequence_input, preds)\n",
    "model.compile(loss='categorical_crossentropy',\n",
    "              optimizer='sgd',\n",
    "              metrics=['accuracy'])\n",
    "\n",
    "print(model.summary())  # Dial\n",
    "model.save(DATADIR+compiled_model)"
   ]
  },
  {
   "cell_type": "code",
   "execution_count": 19,
   "metadata": {},
   "outputs": [
    {
     "name": "stdout",
     "output_type": "stream",
     "text": [
      "Epoch 1/2\n",
      "2/2 [==============================] - 1s 316ms/step - loss: 0.6870 - acc: 0.5000\n",
      "Epoch 2/2\n",
      "2/2 [==============================] - 0s 5ms/step - loss: 0.6594 - acc: 1.0000\n",
      "Saved model to disk\n"
     ]
    }
   ],
   "source": [
    "# train.py\n",
    "\n",
    "# Input\n",
    "training_file = 'indexed.h5'\n",
    "label_file = 'label_and_index.h5'\n",
    "\n",
    "# Knobs\n",
    "epochs = 2\n",
    "batch_size = 64\n",
    "\n",
    "# Output\n",
    "compiled_model = 'compiled_model.keras'\n",
    "trained_model = 'trained_model.yaml'\n",
    "trained_weights = 'trained_weights.h5'\n",
    "\n",
    "from keras.callbacks import TensorBoard as tb\n",
    "from datetime import datetime\n",
    "t = datetime.now()\n",
    "tensorboard = tb(log_dir='tensorboard_logs/{:%Y-%m-%d-%H-%M}'.format(t))  # Dial\n",
    "\n",
    "with h5py.File(DATADIR+training_file, \"r\") as f1:\n",
    "    with h5py.File(DATADIR+label_file, \"r\") as f2:\n",
    "        x_train = f1['training_data']  # Note that Keras is special in being able to read the HDF5 _object_\n",
    "        y_train = f2['training_labels']\n",
    "        \n",
    "        model.fit(x_train, y_train,\n",
    "                  batch_size=batch_size,\n",
    "                  epochs=epochs,\n",
    "                  shuffle='batch',  # Required for using HDF5\n",
    "                  callbacks=[tensorboard])\n",
    "\n",
    "# serialize model to YAML\n",
    "# From https://machinelearningmastery.com/save-load-keras-deep-learning-models/\n",
    "model_yaml = model.to_yaml()\n",
    "with open(DATADIR+trained_model, \"w\") as yaml_file:\n",
    "    yaml_file.write(model_yaml)\n",
    "# serialize weights to HDF5\n",
    "model.save_weights(DATADIR+trained_weights)\n",
    "print(\"Saved model to disk\")\n"
   ]
  },
  {
   "cell_type": "code",
   "execution_count": 20,
   "metadata": {},
   "outputs": [
    {
     "name": "stderr",
     "output_type": "stream",
     "text": [
      "100%|██████████| 1/1 [00:00<00:00, 1605.17it/s]"
     ]
    },
    {
     "name": "stdout",
     "output_type": "stream",
     "text": [
      "Loaded model from disk\n",
      "149\n"
     ]
    },
    {
     "name": "stderr",
     "output_type": "stream",
     "text": [
      "\n"
     ]
    },
    {
     "data": {
      "text/plain": [
       "0.47129893"
      ]
     },
     "execution_count": 20,
     "metadata": {},
     "output_type": "execute_result"
    }
   ],
   "source": [
    "# inference.py\n",
    "\n",
    "# Input\n",
    "comments_text = [\"\"\"\n",
    "Reminder, if you're in the US, the FTC says your eye doctor must give you your prescription after your exam. If a doctor refuses to do so, they can face legal action and penalties.\n",
    "\n",
    "https://www.consumer.ftc.gov/blog/2016/05/buying-prescriptio...\n",
    "\n",
    "That said, I don't think the FTC stipulates what information must appear on the prescription. Many docs leave off your PD (pupillary distance), which is a necessary measurement if you're buying online. Fortunately, there are a variety of easy ways to take this measurement yourself after the exam, although if you're really concerned about precision, you'll want the doctor's measurement.\n",
    "\n",
    "And by the way, it should go without saying, but I'll say it anyway. Although the quality of eyewear available online can be comparable to what you'd get in store ... please don't think an online eye exam is an acceptable substitute for visiting an ophthalmologist in person and getting a comprehensive eye exam! \n",
    "\"\"\"]  # This will eventually be an API call\n",
    "trained_model = 'trained_model.yaml'\n",
    "trained_weights = 'trained_weights.h5'\n",
    "w2v_weights_and_word_index_mapping = 'w2v_weights_and_word_index_mapping.h5'\n",
    "\n",
    "# Knobs\n",
    "pass\n",
    "\n",
    "# Output\n",
    "pass  # Print to command line\n",
    "\n",
    "from keras.models import model_from_yaml\n",
    "\n",
    "# load YAML and create model\n",
    "with open(DATADIR+trained_model, 'r') as yaml_file:\n",
    "    loaded_model_yaml = yaml_file.read()\n",
    "    loaded_model = model_from_yaml(loaded_model_yaml)\n",
    "\n",
    "# load weights into new model\n",
    "loaded_model.load_weights(DATADIR+trained_weights)\n",
    "print(\"Loaded model from disk\")\n",
    "\n",
    "\n",
    "# preprocess (will eventually be call to same function)\n",
    "\n",
    "split_regex = r' |\\.'\n",
    "remove_regex = r\"\\'|\\\"|,|\\.|\\n|\\/|&#\\d\\d;|\\(|\\)\"\n",
    "tag_patterns = {'http.*\\w':' <LINK> '}\n",
    "positive_labels = ('pg', 'patio11', 'volida')\n",
    "sequence_length = 300\n",
    "\n",
    "pp_str = ''\n",
    "for line in tqdm.tqdm(comments_text):  # Dial\n",
    "    temp_text = line\n",
    "    temp_text = temp_text.lower()\n",
    "    for key, value in tag_patterns.items():\n",
    "        temp_text = re.sub(key, value, temp_text)\n",
    "    text = re.split(split_regex, re.sub(remove_regex, '', temp_text))\n",
    "    print(len(text))\n",
    "    text += ['']*(sequence_length-len(text))\n",
    "    text += ['\\n']\n",
    "    pp_str += ','.join(text)\n",
    "\n",
    "    \n",
    "    \n",
    "with h5py.File(DATADIR+w2v_weights_and_word_index_mapping, \"r\") as index:       \n",
    "    text_lines = pp_str.split('\\n')\n",
    "    indexed = np.zeros(shape=(len(text_lines)-1, index['metadata']['sequence_length'][0]))\n",
    "    keys = index['word_to_index'].keys()\n",
    "    for line_ix, wordlist in enumerate(text_lines):\n",
    "        for word_ix, word in enumerate(wordlist.split(',')):\n",
    "            if word in keys:\n",
    "                indexed[line_ix, word_ix] = index['word_to_index'][word][()]\n",
    "    \n",
    "loaded_model.predict(indexed)[0, 0]"
   ]
  },
  {
   "cell_type": "code",
   "execution_count": 21,
   "metadata": {},
   "outputs": [
    {
     "name": "stderr",
     "output_type": "stream",
     "text": [
      "5it [00:00, 11466.11it/s]"
     ]
    },
    {
     "name": "stdout",
     "output_type": "stream",
     "text": [
      "8\n",
      "36\n",
      "11\n",
      "[[0.47292626 0.5270738 ]\n",
      " [0.47406328 0.5259367 ]\n",
      " [0.4730903  0.5269097 ]]\n",
      "['phil', 'volida', 'volida']\n"
     ]
    },
    {
     "name": "stderr",
     "output_type": "stream",
     "text": [
      "\n"
     ]
    }
   ],
   "source": [
    "# test.py\n",
    "\n",
    "# Call all the same \n",
    "\n",
    "test_filename = 'downloaded_test'\n",
    "trained_model = 'trained_model'\n",
    "\n",
    "# Input\n",
    "raw_data = 'raw_data_test.jsonl'\n",
    "\n",
    "# Knobs\n",
    "status = 'training'\n",
    "filter_bool = ('type', 'comment') \n",
    "split_regex = r' |\\.'\n",
    "remove_regex = r\"\\'|\\\"|,|\\.|\\n|\\/|&#\\d\\d;|\\(|\\)\"\n",
    "tag_patterns = {'http.*\\w':' <LINK> '}\n",
    "positive_labels = ('pg', 'patio11', 'volida')\n",
    "sequence_length = 300\n",
    "\n",
    "# Output\n",
    "pass  # Print\n",
    "\n",
    "actual_labels = []\n",
    "original_ids = []\n",
    "outfile_text = ''\n",
    "\n",
    "with open(DATADIR+raw_data, 'r') as infile:\n",
    "    with open(DATADIR+preprocessed_data, 'w') as outfile:\n",
    "        for line in tqdm.tqdm(infile):  # Dial\n",
    "            line_json = json.loads(line)\n",
    "\n",
    "            if line_json[filter_bool[0]] != filter_bool[1]: continue\n",
    "            temp_text = line_json['text']\n",
    "            temp_text = temp_text.lower()\n",
    "            for key, value in tag_patterns.items():\n",
    "                temp_text = re.sub(key, value, temp_text)\n",
    "            text = re.split(split_regex, re.sub(remove_regex, '', temp_text))\n",
    "            print(len(text))\n",
    "            text += ['']*(sequence_length-len(text))\n",
    "            text += ['\\n']\n",
    "            outfile_text += ','.join(text)\n",
    "            \n",
    "            actual_labels.append(line_json['by'])\n",
    "            \n",
    "            \n",
    "with h5py.File(DATADIR+w2v_weights_and_word_index_mapping, \"r\") as index:       \n",
    "    text_lines = outfile_text.split('\\n')\n",
    "    sequence_length = index['metadata']['sequence_length'][0]\n",
    "    indexed = np.zeros(shape=(len(text_lines)-1, sequence_length))\n",
    "    keys = index['word_to_index'].keys()\n",
    "    for line_ix, wordlist in enumerate(text_lines):\n",
    "        for word_ix, word in enumerate(wordlist.split(',')[:sequence_length]):\n",
    "            if word in keys:\n",
    "                indexed[line_ix, word_ix] = index['word_to_index'][word][()]\n",
    "    \n",
    "print(loaded_model.predict(indexed))\n",
    "print(actual_labels)"
   ]
  }
 ],
 "metadata": {
  "kernelspec": {
   "display_name": "Python 3",
   "language": "python",
   "name": "python3"
  },
  "language_info": {
   "codemirror_mode": {
    "name": "ipython",
    "version": 3
   },
   "file_extension": ".py",
   "mimetype": "text/x-python",
   "name": "python",
   "nbconvert_exporter": "python",
   "pygments_lexer": "ipython3",
   "version": "3.6.8"
  }
 },
 "nbformat": 4,
 "nbformat_minor": 2
}
