{
 "cells": [
  {
   "cell_type": "code",
   "execution_count": 1,
   "metadata": {},
   "outputs": [],
   "source": [
    "import torch"
   ]
  },
  {
   "cell_type": "code",
   "execution_count": 2,
   "metadata": {},
   "outputs": [],
   "source": [
    "# Download data\n",
    "# https://files.pushshift.io/hackernews/ (first file)"
   ]
  },
  {
   "cell_type": "code",
   "execution_count": 43,
   "metadata": {},
   "outputs": [
    {
     "data": {
      "text/plain": [
       "b'{\"by\":\"pg\",\"descendants\":15,\"id\":1,\"kids\":[487171,15,234509,454410,82729],\"retrieved_on\":1525541947,'"
      ]
     },
     "execution_count": 43,
     "metadata": {},
     "output_type": "execute_result"
    }
   ],
   "source": [
    "# Convert to HDF5\n",
    "import bz2, json\n",
    "from json import JSONDecodeError\n",
    "b = bz2.BZ2File('data/HNI_2006-10.bz2')\n",
    "bs = b.read()\n",
    "bs[:100]"
   ]
  },
  {
   "cell_type": "code",
   "execution_count": 44,
   "metadata": {},
   "outputs": [
    {
     "data": {
      "text/plain": [
       "b'{\"by\":\"phyllis\",\"descendants\":0,\"id\":3,\"kids\":[454412,531602],\"retrieved_on\":1525541948,\"score\":7,\"time\":1160419233,\"title\":\"Woz Interview: the early days of Apple\",\"type\":\"story\",\"url\":\"http:\\\\/\\\\/www.foundersatwork.com\\\\/stevewozniak.html\"}'"
      ]
     },
     "execution_count": 44,
     "metadata": {},
     "output_type": "execute_result"
    }
   ],
   "source": [
    "bs.split(b'\\n')[2]"
   ]
  },
  {
   "cell_type": "code",
   "execution_count": 48,
   "metadata": {},
   "outputs": [
    {
     "data": {
      "text/plain": [
       "[{'by': 'sama',\n",
       "  'id': 15,\n",
       "  'kids': [17, 454424],\n",
       "  'parent': 1,\n",
       "  'retrieved_on': 1525541949,\n",
       "  'text': '&#34;the rising star of venture capital&#34; -unknown VC eating lunch on SHR',\n",
       "  'time': 1160423461,\n",
       "  'type': 'comment'},\n",
       " {'by': 'pg',\n",
       "  'id': 17,\n",
       "  'kids': [1079, 454426],\n",
       "  'parent': 15,\n",
       "  'retrieved_on': 1525541950,\n",
       "  'text': 'Is there anywhere to eat on Sandhill Road?',\n",
       "  'time': 1160423565,\n",
       "  'type': 'comment'}]"
      ]
     },
     "execution_count": 48,
     "metadata": {},
     "output_type": "execute_result"
    }
   ],
   "source": [
    "bj = []\n",
    "for l in bs.split(b'\\n'):\n",
    "    try:\n",
    "        bj.append(json.loads(l))\n",
    "    except JSONDecodeError:\n",
    "        pass\n",
    "[x for x in bj if x['type'] == 'comment'][:2]"
   ]
  },
  {
   "cell_type": "code",
   "execution_count": null,
   "metadata": {},
   "outputs": [],
   "source": [
    "# Tag\n",
    "# Maybe things like links should be tagged"
   ]
  },
  {
   "cell_type": "code",
   "execution_count": 69,
   "metadata": {},
   "outputs": [],
   "source": [
    "# Tokenize\n",
    "text_list = []\n",
    "user_list = []\n",
    "for (text, user) in ((x['text'], x['by']) for x in bj if x['type'] == 'comment'):\n",
    "    text_list.append(text.split())\n",
    "    user_list.append(user)\n"
   ]
  },
  {
   "cell_type": "code",
   "execution_count": 5,
   "metadata": {},
   "outputs": [],
   "source": [
    "# W2V\n",
    "from gensim.test.utils import common_texts, get_tmpfile\n",
    "from gensim.models import Word2Vec\n",
    "# path = get_tmpfile(\"word2vec.model\")\n",
    "model = Word2Vec(text_list, size=100, window=5, min_count=1, workers=4)\n",
    "model.save(\"word2vec.model\")"
   ]
  },
  {
   "cell_type": "code",
   "execution_count": 82,
   "metadata": {},
   "outputs": [
    {
     "data": {
      "text/plain": [
       "[88, 13, 0, 0, 0, 0, 0, 0, 0, 0]"
      ]
     },
     "execution_count": 82,
     "metadata": {},
     "output_type": "execute_result"
    }
   ],
   "source": [
    "# Index\n",
    "tok_list = []\n",
    "for text in text_list:\n",
    "    tok_list.append([])\n",
    "    for tok in text:\n",
    "        try:\n",
    "            tok_list[-1].append(1+model.wv.index2word.index(tok))\n",
    "        except:\n",
    "            tok_list[-1].append(0)\n",
    "            \n",
    "    tok_list[-1] = tok_list[-1] + [0]*10 \n",
    "    tok_list[-1] = tok_list[-1][:10] \n",
    "            \n",
    "            \n",
    "tok_list[5]"
   ]
  },
  {
   "cell_type": "code",
   "execution_count": 84,
   "metadata": {},
   "outputs": [],
   "source": [
    "# Define Model\n",
    "import torch.nn as nn\n",
    "\n",
    "class RNN(nn.Module):\n",
    "    def __init__(self, input_size, hidden_size, output_size):\n",
    "        super(RNN, self).__init__()\n",
    "\n",
    "        self.hidden_size = hidden_size\n",
    "\n",
    "        self.i2h = nn.Linear(input_size + hidden_size, hidden_size)\n",
    "        self.i2o = nn.Linear(input_size + hidden_size, output_size)\n",
    "        self.softmax = nn.LogSoftmax(dim=1)\n",
    "\n",
    "    def forward(self, input, hidden):\n",
    "        combined = torch.cat((input, hidden), 1)\n",
    "        hidden = self.i2h(combined)\n",
    "        output = self.i2o(combined)\n",
    "        output = self.softmax(output)\n",
    "        return output, hidden\n",
    "\n",
    "    def initHidden(self):\n",
    "        return torch.zeros(1, self.hidden_size)\n",
    "\n",
    "n_hidden = 128\n",
    "n_letters = len(model.wv.index2word)\n",
    "n_categories = 2\n",
    "rnn = RNN(n_letters, n_hidden, n_categories)\n",
    "# rnn.cuda()"
   ]
  },
  {
   "cell_type": "code",
   "execution_count": 85,
   "metadata": {},
   "outputs": [],
   "source": [
    "# Define Model\n",
    "import torch.nn as nn\n",
    "\n",
    "class CNN(nn.Module):\n",
    "    def __init__(self, input_size, output_size):\n",
    "        super(CNN, self).__init__()\n",
    "\n",
    "#         self.i2h = nn.Conv1d(input_size, )\n",
    "        self.i2o = nn.Linear(input_size, output_size)\n",
    "        self.softmax = nn.LogSoftmax(dim=1)\n",
    "\n",
    "    def forward(self, input):\n",
    "#         output = self.i2h(combined)\n",
    "        output = self.i2o(input)\n",
    "        output = self.softmax(output)\n",
    "        return output\n",
    "\n",
    "input_size = len(model.wv.index2word)\n",
    "n_categories = 2\n",
    "cnn = CNN(input_size, n_categories)"
   ]
  },
  {
   "cell_type": "code",
   "execution_count": null,
   "metadata": {},
   "outputs": [],
   "source": [
    "input = letterToTensor('A')\n",
    "\n",
    "output, next_hidden = rnn(input, hidden)"
   ]
  },
  {
   "cell_type": "code",
   "execution_count": 8,
   "metadata": {},
   "outputs": [],
   "source": [
    "# Train Model\n"
   ]
  },
  {
   "cell_type": "code",
   "execution_count": 9,
   "metadata": {},
   "outputs": [],
   "source": [
    "# Test Model"
   ]
  },
  {
   "cell_type": "code",
   "execution_count": 10,
   "metadata": {},
   "outputs": [],
   "source": [
    "# New Data"
   ]
  },
  {
   "cell_type": "code",
   "execution_count": null,
   "metadata": {},
   "outputs": [],
   "source": []
  }
 ],
 "metadata": {
  "kernelspec": {
   "display_name": "Python 3",
   "language": "python",
   "name": "python3"
  },
  "language_info": {
   "codemirror_mode": {
    "name": "ipython",
    "version": 3
   },
   "file_extension": ".py",
   "mimetype": "text/x-python",
   "name": "python",
   "nbconvert_exporter": "python",
   "pygments_lexer": "ipython3",
   "version": "3.6.8"
  }
 },
 "nbformat": 4,
 "nbformat_minor": 2
}
