{
 "cells": [
  {
   "cell_type": "markdown",
   "metadata": {},
   "source": [
    "**Insights**\n",
    "* There's huge value in having a single file where you can see everything, whether it's a diagram, makefile or Jupyter notebook\n",
    "* Need to identify what needs to be flexible. Passing a trivial amount of data e2e should be very doable\n",
    "* Unit tests waste too much time on the edge cases. At the very least, the top test should always be 'happy path' so you can see what it _should_ look like. Then there needs to be a connection between files\n",
    "    * This is much more possible for data pipelines than application code, so it's under-developed"
   ]
  },
  {
   "cell_type": "code",
   "execution_count": 1,
   "metadata": {},
   "outputs": [],
   "source": [
    "DATADIR = '/home/mritter/code/twitter_nlp/sandbox_data/'"
   ]
  },
  {
   "cell_type": "code",
   "execution_count": null,
   "metadata": {},
   "outputs": [],
   "source": [
    "# download_data.py\n",
    "\n",
    "# loading_dock: [local] sandbox_data.txt, [internet] http server\n",
    "# processing: download, assign IDs, split out test\n",
    "# dial: progress bar\n",
    "# shipping_dock: [local] .h5\n",
    "manifest_filename = 'manifest.txt'\n",
    "server_url = 'https://files.pushshift.io/hackernews/\n",
    "output_file_base = 'downloaded'\n"
   ]
  },
  {
   "cell_type": "code",
   "execution_count": null,
   "metadata": {},
   "outputs": [],
   "source": [
    "# preprocess_data.py\n",
    "\n",
    "# loading_dock: [local] train data\n",
    "# processing: filter, split, tag, format labels\n",
    "# lever: training, inference, evaluation\n",
    "# dial: Dask status\n",
    "# shipping_dock: [local] text-only and label-only files with IDs\n",
    "status = 'training'\n",
    "train_filename = 'downloaded_train'\n",
    "filter_bools = {}  # Lines are filtered out if true\n",
    "split_chars = (' ', '.')\n",
    "tag_patterns = {'http.*\\w':' <LINK> '}\n",
    "output_file = 'preprocessed'\n"
   ]
  },
  {
   "cell_type": "code",
   "execution_count": 2,
   "metadata": {},
   "outputs": [],
   "source": [
    "# train_w2v.py\n",
    "\n",
    "# loading_dock: [local] train text\n",
    "# processing: gensim w2v\n",
    "# dial: estimate based on train size\n",
    "# shipping_dock: [local] gensim model\n",
    "train_filename = 'preprocessed'\n",
    "output_file = 'w2v'\n"
   ]
  },
  {
   "cell_type": "code",
   "execution_count": null,
   "metadata": {},
   "outputs": [],
   "source": [
    "# index_text.py\n",
    "\n",
    "# loading_dock: [local] train text, [local] gensim\n",
    "# shipping_dock: [local] text as indexes, [local] 100d w2v array sorted with that index\n",
    "w2v_file = 'w2v'\n",
    "text_file = 'preprocessed'"
   ]
  },
  {
   "cell_type": "code",
   "execution_count": null,
   "metadata": {},
   "outputs": [],
   "source": [
    "# model.py\n",
    "\n",
    "# loading_dock: 100d w2v array\n",
    "# lever: params\n",
    "# dial: model.summary()\n",
    "# shipping_dock: [local] compiled model\n",
    "\n",
    "w2v_file = 'w2v'\n",
    "compiled_model = 'compiled_model'"
   ]
  },
  {
   "cell_type": "code",
   "execution_count": null,
   "metadata": {},
   "outputs": [],
   "source": [
    "# train.py\n",
    "\n",
    "# loading_dock: [local] text as indexes, [local] compiled model\n",
    "# lever: epocs\n",
    "# dial: tensorboard\n",
    "# shipping_dock: [local] saved model\n",
    "\n",
    "text_file = 'preprocessed'\n",
    "compiled_model = 'compiled_model'\n",
    "trained_model = 'trained_model'"
   ]
  },
  {
   "cell_type": "code",
   "execution_count": null,
   "metadata": {},
   "outputs": [],
   "source": [
    "# inference.py\n",
    "\n",
    "# loading_dock: candidate comment\n",
    "# processing: call preprocess and index, then apply model\n",
    "# shipping_dock: best comment\n",
    "\n",
    "comment_text = \"\"\"\n",
    "Reminder, if you're in the US, the FTC says your eye doctor must give you your prescription after your exam. If a doctor refuses to do so, they can face legal action and penalties.\n",
    "\n",
    "https://www.consumer.ftc.gov/blog/2016/05/buying-prescriptio...\n",
    "\n",
    "That said, I don't think the FTC stipulates what information must appear on the prescription. Many docs leave off your PD (pupillary distance), which is a necessary measurement if you're buying online. Fortunately, there are a variety of easy ways to take this measurement yourself after the exam, although if you're really concerned about precision, you'll want the doctor's measurement.\n",
    "\n",
    "And by the way, it should go without saying, but I'll say it anyway. Although the quality of eyewear available online can be comparable to what you'd get in store ... please don't think an online eye exam is an acceptable substitute for visiting an ophthalmologist in person and getting a comprehensive eye exam! \n",
    "\"\"\"\n",
    "\n",
    "trained_model = 'trained_model'"
   ]
  },
  {
   "cell_type": "code",
   "execution_count": null,
   "metadata": {},
   "outputs": [],
   "source": [
    "# test.py\n",
    "\n",
    "# loading_dock: [local] test file\n",
    "# processing: call inference, then compare to labels \n",
    "# shipping_dock: accuracy printout\n",
    "\n",
    "test_filename = 'downloaded_test'\n",
    "trained_model = 'trained_model'"
   ]
  }
 ],
 "metadata": {
  "kernelspec": {
   "display_name": "Python 3",
   "language": "python",
   "name": "python3"
  },
  "language_info": {
   "codemirror_mode": {
    "name": "ipython",
    "version": 3
   },
   "file_extension": ".py",
   "mimetype": "text/x-python",
   "name": "python",
   "nbconvert_exporter": "python",
   "pygments_lexer": "ipython3",
   "version": "3.6.8"
  }
 },
 "nbformat": 4,
 "nbformat_minor": 2
}
