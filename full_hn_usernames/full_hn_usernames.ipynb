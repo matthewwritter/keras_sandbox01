{
 "cells": [
  {
   "cell_type": "code",
   "execution_count": 1,
   "metadata": {},
   "outputs": [],
   "source": [
    "###\n",
    "# META\n",
    "###\n",
    "\n",
    "import h5py, bz2, json, tqdm, re\n",
    "import numpy as np\n",
    "\n",
    "DATADIR = '/home/mritter/code/twitter_nlp/full_hn_usernames/data/'\n",
    "NUM_SAMPLES = 100\n",
    "SKIP_FIRST = 1000"
   ]
  },
  {
   "cell_type": "code",
   "execution_count": 3,
   "metadata": {},
   "outputs": [
    {
     "name": "stderr",
     "output_type": "stream",
     "text": [
      "\r",
      "0it [00:00, ?it/s]"
     ]
    },
    {
     "name": "stdout",
     "output_type": "stream",
     "text": [
      "HNI_2006-10\n"
     ]
    },
    {
     "name": "stderr",
     "output_type": "stream",
     "text": [
      "2it [00:00,  4.48it/s]"
     ]
    },
    {
     "name": "stdout",
     "output_type": "stream",
     "text": [
      "61\n",
      "HNI_2006-12\n",
      "62\n",
      "HNI_2007-02\n",
      "1100\n"
     ]
    },
    {
     "name": "stderr",
     "output_type": "stream",
     "text": [
      "\n"
     ]
    }
   ],
   "source": [
    "# download_data.py\n",
    "\n",
    "# Input\n",
    "manifest_filename = 'manifest.txt'\n",
    "server_url = 'https://files.pushshift.io/hackernews/'\n",
    "\n",
    "# Knobs\n",
    "test_pct = .5\n",
    "\n",
    "# Output\n",
    "raw_data = 'raw_data'\n",
    "\n",
    "\n",
    "from requests import get\n",
    "\n",
    "np.random.seed = 42\n",
    "stop = False\n",
    "sample_l = []\n",
    "with open(DATADIR+manifest_filename) as infile:\n",
    "    for line in tqdm.tqdm(infile):  # Dial\n",
    "        remote_filename = line.split()[1]\n",
    "        print(remote_filename)\n",
    "        as_bytes = get(server_url+remote_filename+'.bz2').content\n",
    "        as_text = bz2.decompress(as_bytes)\n",
    "        for sample in as_text.split(b'\\n'):\n",
    "            if not len(sample): continue\n",
    "            sample_l.append(sample.decode(\"ascii\", \"ignore\"))\n",
    "            if len(sample_l) >= (SKIP_FIRST + NUM_SAMPLES):\n",
    "                stop = True\n",
    "            if stop: break\n",
    "        print(len(sample_l))\n",
    "        if stop: break\n",
    "            \n",
    "sample_l = sample_l[SKIP_FIRST:]\n",
    "np.random.shuffle(sample_l)"
   ]
  },
  {
   "cell_type": "code",
   "execution_count": 4,
   "metadata": {},
   "outputs": [
    {
     "name": "stdout",
     "output_type": "stream",
     "text": [
      "{\"by\":\"volida\",\"id\":1022,\"kids\":[1024,1092],\"parent\":1021,\"retrieved_on\":1525542116,\"text\":\"xobni.com, reddit.com, pollground.com, loopt.com, weebly.com<p>which else?\",\"time\":1172417184,\"type\":\"comment\"}\n",
      "== shuffling ==\n",
      "{\"by\":\"danielha\",\"id\":1057,\"parent\":266,\"retrieved_on\":1525542122,\"text\":\"Thanks, I&#39;ll be watching this soon.\",\"time\":1172430276,\"type\":\"comment\"}\n"
     ]
    }
   ],
   "source": [
    "print(sample_l[0])\n",
    "print('== shuffling ==')\n",
    "np.random.seed = 42\n",
    "np.random.shuffle(sample_l)\n",
    "print(sample_l[0])"
   ]
  },
  {
   "cell_type": "code",
   "execution_count": 5,
   "metadata": {},
   "outputs": [],
   "source": [
    "test_ix = int(len(sample_l)*test_pct)\n",
    "\n",
    "with open(DATADIR+raw_data+'_train.jsonl', 'w') as outfile:\n",
    "    outfile.write('\\n'.join(sample_l[test_ix:]))\n",
    "        \n",
    "with open(DATADIR+raw_data+'_test.jsonl', 'w') as outfile:\n",
    "    outfile.write('\\n'.join(sample_l[:test_ix]))"
   ]
  },
  {
   "cell_type": "code",
   "execution_count": 6,
   "metadata": {},
   "outputs": [
    {
     "name": "stdout",
     "output_type": "stream",
     "text": [
      "-rw-rw-r-- 1 mritter mritter 24K Jan 27 06:38 data/raw_data_test.jsonl\r\n",
      "-rw-rw-r-- 1 mritter mritter 15K Jan 27 06:38 data/raw_data_train.jsonl\r\n"
     ]
    }
   ],
   "source": [
    "! ls -lah data/*jsonl"
   ]
  },
  {
   "cell_type": "code",
   "execution_count": 7,
   "metadata": {},
   "outputs": [
    {
     "name": "stdout",
     "output_type": "stream",
     "text": [
      "   49 data/raw_data_test.jsonl\r\n",
      "   49 data/raw_data_train.jsonl\r\n",
      "   98 total\r\n"
     ]
    }
   ],
   "source": [
    "! wc -l data/*jsonl"
   ]
  },
  {
   "cell_type": "code",
   "execution_count": 9,
   "metadata": {},
   "outputs": [
    {
     "name": "stdout",
     "output_type": "stream",
     "text": [
      "==> data/raw_data_test.jsonl <==\r\n",
      "{\"by\":\"danielha\",\"id\":1057,\"parent\":266,\"retrieved_on\":1525542122,\"text\":\"Thanks, I&#39;ll be watching this soon.\",\"time\":1172430276,\"type\":\"comment\"}\r\n",
      "\r\n",
      "==> data/raw_data_train.jsonl <==\r\n",
      "{\"by\":\"danw\",\"descendants\":1,\"id\":1076,\"kids\":[1223],\"retrieved_on\":1525542125,\"score\":3,\"time\":1172439695,\"title\":\"Startup School Wiki - Wiki inc videos of startup school 2006 and 2005\",\"type\":\"story\",\"url\":\"http:\\/\\/startupschool.infogami.com\\/\"}\r\n"
     ]
    }
   ],
   "source": [
    "! head -1 data/*jsonl"
   ]
  },
  {
   "cell_type": "code",
   "execution_count": 58,
   "metadata": {},
   "outputs": [
    {
     "name": "stderr",
     "output_type": "stream",
     "text": [
      "50it [00:00, 25364.68it/s]\n"
     ]
    }
   ],
   "source": [
    "# preprocess_txt.py\n",
    "\n",
    "# Input\n",
    "raw_data = 'raw_data_train.jsonl'\n",
    "\n",
    "# Knobs\n",
    "status = 'training'\n",
    "filter_bool = ('type', 'comment') \n",
    "split_regex = r' |\\.'\n",
    "remove_regex = r\"\\'|\\\"|,|\\.|\\n|\\/|&#\\d\\d;|\\(|\\)\"\n",
    "tag_patterns = {'http.*\\w':' <LINK> '}\n",
    "positive_labels = ('pg', 'patio11', 'volida')\n",
    "sequence_length = 300\n",
    "\n",
    "# Output\n",
    "preprocessed_data = 'preprocessed.txt'\n",
    "label_file = 'label_and_index.h5'\n",
    "\n",
    "import re\n",
    "\n",
    "labels = []\n",
    "original_ids = []\n",
    "\n",
    "with open(DATADIR+raw_data, 'r') as infile:\n",
    "    with open(DATADIR+preprocessed_data, 'w') as outfile:\n",
    "        for line in tqdm.tqdm(infile):  # Dial\n",
    "            line_json = json.loads(line)\n",
    "\n",
    "            if line_json[filter_bool[0]] != filter_bool[1]: continue\n",
    "            temp_text = line_json['text']\n",
    "            temp_text = temp_text.lower()\n",
    "            for key, value in tag_patterns.items():\n",
    "                temp_text = re.sub(key, value, temp_text)\n",
    "            text = re.split(split_regex, re.sub(remove_regex, '', temp_text))\n",
    "            text += ['']*(sequence_length-len(text))\n",
    "            text += ['\\n']\n",
    "            outfile.write(','.join(text))\n",
    "            \n",
    "            if status == 'training':\n",
    "                labels.append((1, 0) if line_json['by'] in positive_labels else (0, 1))  # Not generalizable\n",
    "                original_ids.append(line_json['id'])\n",
    "            \n",
    "if status == 'training':\n",
    "    with h5py.File(DATADIR+label_file, \"w\") as f:\n",
    "        f.create_dataset('training_labels', (len(labels), 2), dtype='int', data=labels)\n",
    "        f.create_dataset('ordered_keys', (len(original_ids), 1), dtype='int', data=original_ids)\n",
    "    "
   ]
  },
  {
   "cell_type": "code",
   "execution_count": 59,
   "metadata": {},
   "outputs": [
    {
     "name": "stdout",
     "output_type": "stream",
     "text": [
      "a,lot,of,you,would-be,entrepreneurs,should,give,this,a,read,there,are,many,things,to,consider,in,the,crucial,first,steps,,,,,,,,,,,,,,,,,,,,,,,,,,,,,,,,,,,,,,,,,,,,,,,,,,,,,,,,,,,,,,,,,,,,,,,,,,,,,,,,,,,,,,,,,,,,,,,,,,,,,,,,,,,,,,,,,,,,,,,,,,,,,,,,,,,,,,,,,,,,,,,,,,,,,,,,,,,,,,,,,,,,,,,,,,,,,,,,,,,,,,,,,,,,,,,,,,,,,,,,,,,,,,,,,,,,,,,,,,,,,,,,,,,,,,,,,,,,,,,,,,,,,,,,,,,,,,,,,,,,,,,,,,,,,,,,,,,,,,,\r\n",
      "from,an,engineering,perspective,i,enjoyed,the,inside,look,at,how,myspace,scaled,their,infrastructure,,scaling,is,certainly,a,critical,issue,for,these,big,sites;,one,of,the,reasons,that,friendster,waned,in,popularity,was,that,they,used,algorithms,and,a,back-end,infrastructure,that,were,painfully,slow,for,their,once-massive,user,base,,<p>on,the,other,hand,a,site,should,be,able,to,handle,several,hundred,thousand,users,with,a,single,beefy,database,server,remote,static,file,hosting,and,a,few,load-balance,webservers,,when,you,start,scaling,out,to,a,bigger,array,of,cheap,hardware,you,introduce,complications,that,make,your,site,harder,to,maintain,and,improve,,that,change,will,need,to,happen,at,some,point,along,the,growth,curve,but,it,seems,to,me,that,seed,stage,entrepreneurs,need,to,be,most,concerned,about,making,a,product,that,people,want,to,use,,,,,,,,,,,,,,,,,,,,,,,,,,,,,,,,,,,,,,,,,,,,,,,,,,,,,,,,,,,,,,,,,,,,,,,,,,,,,,,,,,,,,,,,,,,,,,,,,,,,,,,,,,,,,,,,,,,,,,,,,,,,,,,,,,,,,,,,,,,,,,,,,,,,,,,,,,,\r\n"
     ]
    }
   ],
   "source": [
    "!head -2 data/preprocessed.txt"
   ]
  },
  {
   "cell_type": "markdown",
   "metadata": {},
   "source": [
    "_insight_: w2v is generated with a simple NN autoencoder"
   ]
  },
  {
   "cell_type": "code",
   "execution_count": 60,
   "metadata": {},
   "outputs": [
    {
     "name": "stderr",
     "output_type": "stream",
     "text": [
      "2019-01-27 06:46:23,115 : WARNING : consider setting layer size to a multiple of 4 for greater performance\n",
      "2019-01-27 06:46:23,116 : INFO : collecting all words and their counts\n",
      "2019-01-27 06:46:23,116 : INFO : PROGRESS: at sentence #0, processed 0 words, keeping 0 word types\n",
      "2019-01-27 06:46:23,118 : INFO : collected 524 word types from a corpus of 1116 raw words and 37 sentences\n",
      "2019-01-27 06:46:23,118 : INFO : Loading a fresh vocabulary\n",
      "2019-01-27 06:46:23,121 : INFO : min_count=1 retains 524 unique words (100% of original 524, drops 0)\n",
      "2019-01-27 06:46:23,121 : INFO : min_count=1 leaves 1116 word corpus (100% of original 1116, drops 0)\n",
      "2019-01-27 06:46:23,123 : INFO : deleting the raw counts dictionary of 524 items\n",
      "2019-01-27 06:46:23,124 : INFO : sample=0.001 downsamples 82 most-common words\n",
      "2019-01-27 06:46:23,124 : INFO : downsampling leaves estimated 814 word corpus (73.0% of prior 1116)\n",
      "2019-01-27 06:46:23,126 : INFO : estimated required memory for 524 words and 2 dimensions: 270384 bytes\n",
      "2019-01-27 06:46:23,126 : INFO : resetting layer weights\n",
      "2019-01-27 06:46:23,132 : INFO : training model with 2 workers on 524 vocabulary and 2 features, using sg=0 hs=0 sample=0.001 negative=5 window=5\n",
      "2019-01-27 06:46:23,135 : INFO : worker thread finished; awaiting finish of 1 more threads\n",
      "2019-01-27 06:46:23,136 : INFO : worker thread finished; awaiting finish of 0 more threads\n",
      "2019-01-27 06:46:23,137 : INFO : EPOCH - 1 : training on 1116 raw words (812 effective words) took 0.0s, 567457 effective words/s\n",
      "2019-01-27 06:46:23,137 : INFO : training on a 1116 raw words (812 effective words) took 0.0s, 182889 effective words/s\n",
      "2019-01-27 06:46:23,138 : WARNING : under 10 jobs per worker: consider setting a smaller `batch_words' for smoother alpha decay\n"
     ]
    }
   ],
   "source": [
    "# train_w2v.py\n",
    "\n",
    "# Input\n",
    "preprocessed_data = 'preprocessed.txt'\n",
    "\n",
    "#Knobs\n",
    "embedding_dim = 2\n",
    "\n",
    "# Output\n",
    "w2v_weights_and_word_index_mapping = 'w2v_weights_and_word_index_mapping.h5'\n",
    "\n",
    "import logging\n",
    "from gensim.models import Word2Vec\n",
    "\n",
    "logger= logging.getLogger()  # Dial\n",
    "logging.basicConfig(format='%(asctime)s : %(levelname)s : %(message)s', level=logging.INFO)\n",
    "\n",
    "\n",
    "class W2VIter:\n",
    "    def __init__(self, texts):\n",
    "        self.texts = texts\n",
    "    def __iter__(self):\n",
    "        for text in self.texts:\n",
    "            yield [token for token in text.split(',') if token != '']\n",
    "\n",
    "with open(DATADIR+preprocessed_data, 'r') as f:\n",
    "    w2viter = W2VIter(f.read().split('\\n'))\n",
    "\n",
    "w2v = Word2Vec(w2viter, iter=1, min_count=1, size=embedding_dim, workers=2)"
   ]
  },
  {
   "cell_type": "code",
   "execution_count": 61,
   "metadata": {},
   "outputs": [
    {
     "data": {
      "text/plain": [
       "['a', 'lot', 'of', 'you', 'would-be']"
      ]
     },
     "execution_count": 61,
     "metadata": {},
     "output_type": "execute_result"
    }
   ],
   "source": [
    "list(w2v.wv.vocab.keys())[:5]  # Dial"
   ]
  },
  {
   "cell_type": "code",
   "execution_count": 62,
   "metadata": {},
   "outputs": [
    {
     "name": "stderr",
     "output_type": "stream",
     "text": [
      "2019-01-27 06:46:23,627 : INFO : saving Word2Vec object under /home/mritter/code/twitter_nlp/full_hn_usernames/data/myw2v.w2v, separately None\n",
      "2019-01-27 06:46:23,629 : INFO : not storing attribute vectors_norm\n",
      "2019-01-27 06:46:23,631 : INFO : not storing attribute cum_table\n",
      "2019-01-27 06:46:23,639 : INFO : saved /home/mritter/code/twitter_nlp/full_hn_usernames/data/myw2v.w2v\n",
      "2019-01-27 06:46:23,642 : INFO : loading Word2Vec object from /home/mritter/code/twitter_nlp/full_hn_usernames/data/myw2v.w2v\n",
      "2019-01-27 06:46:23,648 : INFO : loading wv recursively from /home/mritter/code/twitter_nlp/full_hn_usernames/data/myw2v.w2v.wv.* with mmap=None\n",
      "2019-01-27 06:46:23,650 : INFO : setting ignored attribute vectors_norm to None\n",
      "2019-01-27 06:46:23,651 : INFO : loading vocabulary recursively from /home/mritter/code/twitter_nlp/full_hn_usernames/data/myw2v.w2v.vocabulary.* with mmap=None\n",
      "2019-01-27 06:46:23,653 : INFO : loading trainables recursively from /home/mritter/code/twitter_nlp/full_hn_usernames/data/myw2v.w2v.trainables.* with mmap=None\n",
      "2019-01-27 06:46:23,655 : INFO : setting ignored attribute cum_table to None\n",
      "2019-01-27 06:46:23,659 : INFO : loaded /home/mritter/code/twitter_nlp/full_hn_usernames/data/myw2v.w2v\n"
     ]
    },
    {
     "name": "stdout",
     "output_type": "stream",
     "text": [
      "[ 0.10419001 -0.11871763]\n",
      "to a the\n",
      "Index of \"you\" is: 9\n",
      "Index of \"you\" is: 9\n"
     ]
    }
   ],
   "source": [
    "print(w2v.wv['you'][:5])\n",
    "print(w2v.wv.index2word[0], w2v.wv.index2word[1], w2v.wv.index2word[2])\n",
    "print('Index of \"you\" is: {}'.format(w2v.wv.vocab['you'].index))\n",
    "w2v.save(DATADIR+\"myw2v.w2v\")\n",
    "w2v_loaded = Word2Vec.load(DATADIR+\"myw2v.w2v\")\n",
    "print('Index of \"you\" is: {}'.format(w2v_loaded.wv.vocab['you'].index))"
   ]
  },
  {
   "cell_type": "code",
   "execution_count": 63,
   "metadata": {},
   "outputs": [
    {
     "name": "stdout",
     "output_type": "stream",
     "text": [
      "(524, 2)\n",
      "[[-0.00351366  0.07737213]\n",
      " [ 0.14256197  0.14172569]\n",
      " [-0.12213805 -0.07851503]\n",
      " [ 0.10626576  0.14321089]\n",
      " [-0.16918077  0.01385272]]\n"
     ]
    },
    {
     "data": {
      "text/plain": [
       "<matplotlib.collections.PathCollection at 0x7f8b5c728dd8>"
      ]
     },
     "execution_count": 63,
     "metadata": {},
     "output_type": "execute_result"
    },
    {
     "data": {
      "image/png": "[encoded data removed]",
      "text/plain": [
       "<Figure size 432x288 with 1 Axes>"
      ]
     },
     "metadata": {
      "needs_background": "light"
     },
     "output_type": "display_data"
    }
   ],
   "source": [
    "%matplotlib inline\n",
    "import matplotlib.pyplot as plt\n",
    "\n",
    "l = []\n",
    "for i, token in enumerate(w2v.wv.index2word): l.append(w2v.wv[token])\n",
    "weights = np.array(l)\n",
    "print(weights.shape)\n",
    "print(weights[:5, :5])\n",
    "\n",
    "plt.scatter(weights[:, 0], weights[:, 1])"
   ]
  },
  {
   "cell_type": "code",
   "execution_count": 64,
   "metadata": {},
   "outputs": [
    {
     "data": {
      "text/plain": [
       "['articlescomments', 'article', 'articles']"
      ]
     },
     "execution_count": 64,
     "metadata": {},
     "output_type": "execute_result"
    }
   ],
   "source": [
    "l = list(w2v.wv.vocab.keys())\n",
    "len(set(l))\n",
    "w2v.wv.vocab[word].index\n",
    "[x for x in list(w2v.wv.vocab.keys()) if 'article' in x]"
   ]
  },
  {
   "cell_type": "code",
   "execution_count": 65,
   "metadata": {},
   "outputs": [],
   "source": [
    "import h5py\n",
    "\n",
    "with h5py.File(DATADIR+w2v_weights_and_word_index_mapping, \"w\") as f:\n",
    "    f.create_dataset('weights', weights.shape, dtype='f', data=weights)\n",
    "    for word in w2v.wv.vocab.keys():\n",
    "        f.create_dataset('word_to_index/{}'.format(word), (1,), dtype='int', data=w2v.wv.vocab[word].index)\n",
    "    f.create_dataset('metadata/embedding_dim', (1,), dtype='int', data=embedding_dim)\n",
    "    f.create_dataset('metadata/max_token', (1,), dtype='int', data=weights.shape[0]+1)\n",
    "    f.create_dataset('metadata/sequence_length', (1,), dtype='int', data=sequence_length)"
   ]
  },
  {
   "cell_type": "code",
   "execution_count": 66,
   "metadata": {},
   "outputs": [
    {
     "name": "stdout",
     "output_type": "stream",
     "text": [
      "['0', '1', '12', '2005:', '2:1']\n",
      "[9]\n"
     ]
    }
   ],
   "source": [
    "with h5py.File(DATADIR+w2v_weights_and_word_index_mapping, \"r\") as f:\n",
    "    print(list(f['word_to_index'].keys())[:5])\n",
    "    print(f['word_to_index']['you'][()])"
   ]
  },
  {
   "cell_type": "code",
   "execution_count": 67,
   "metadata": {},
   "outputs": [
    {
     "name": "stderr",
     "output_type": "stream",
     "text": [
      "/home/mritter/anaconda3/envs/tf_gpu_test04/lib/python3.6/site-packages/h5py/_hl/dataset.py:313: H5pyDeprecationWarning: dataset.value has been deprecated. Use dataset[()] instead.\n",
      "  \"Use dataset[()] instead.\", H5pyDeprecationWarning)\n"
     ]
    },
    {
     "name": "stdout",
     "output_type": "stream",
     "text": [
      "[  1.  36.   4.   9. 148.]\n"
     ]
    }
   ],
   "source": [
    "# index_text.py\n",
    "\n",
    "# Input\n",
    "w2v_weights_and_word_index_mapping = 'w2v_weights_and_word_index_mapping.h5'\n",
    "preprocessed_data = 'preprocessed.txt'\n",
    "\n",
    "# Knobs\n",
    "pass\n",
    "\n",
    "# Output \n",
    "indexed_filename = 'indexed.h5'\n",
    "\n",
    "with h5py.File(DATADIR+w2v_weights_and_word_index_mapping, \"r\") as index:\n",
    "    with open(DATADIR+preprocessed_data, \"r\") as textfile:\n",
    "        \n",
    "        text_lines = textfile.read().split('\\n')\n",
    "        indexed = np.zeros(shape=(len(text_lines)-1, index['metadata']['sequence_length'].value[0]))\n",
    "        keys = index['word_to_index'].keys()\n",
    "        for line_ix, wordlist in enumerate(text_lines):\n",
    "            for word_ix, word in enumerate(wordlist.split(',')):\n",
    "                if word in keys:\n",
    "                    indexed[line_ix, word_ix] = index['word_to_index'][word][()]\n",
    "        \n",
    "    print(indexed[0, :5])  # Dial\n",
    "\n",
    "    with h5py.File(DATADIR+indexed_filename, \"w\") as f:\n",
    "        f.create_dataset('training_data', \n",
    "                         indexed.shape, \n",
    "                         dtype='int', data=indexed)"
   ]
  },
  {
   "cell_type": "code",
   "execution_count": 68,
   "metadata": {},
   "outputs": [
    {
     "name": "stderr",
     "output_type": "stream",
     "text": [
      "Using TensorFlow backend.\n"
     ]
    },
    {
     "name": "stdout",
     "output_type": "stream",
     "text": [
      "_________________________________________________________________\n",
      "Layer (type)                 Output Shape              Param #   \n",
      "=================================================================\n",
      "input_1 (InputLayer)         (None, 300)               0         \n",
      "_________________________________________________________________\n",
      "embedding_1 (Embedding)      (None, 300, 2)            1050      \n",
      "_________________________________________________________________\n",
      "dense_2 (Dense)              (None, 300, 32)           96        \n",
      "_________________________________________________________________\n",
      "flatten_1 (Flatten)          (None, 9600)              0         \n",
      "_________________________________________________________________\n",
      "dense_3 (Dense)              (None, 2)                 19202     \n",
      "=================================================================\n",
      "Total params: 20,348\n",
      "Trainable params: 19,298\n",
      "Non-trainable params: 1,050\n",
      "_________________________________________________________________\n",
      "None\n"
     ]
    }
   ],
   "source": [
    "# model.py\n",
    "\n",
    "# Inputs\n",
    "w2v_weights_and_word_index_mapping = 'w2v_weights_and_word_index_mapping.h5'\n",
    "training_file = 'indexed.h5'\n",
    "\n",
    "# Knobs\n",
    "pass  # The whole thing, to some extent\n",
    "\n",
    "# Outputs\n",
    "compiled_model = 'compiled_model.keras'\n",
    "\n",
    "\n",
    "with h5py.File(DATADIR+w2v_weights_and_word_index_mapping, \"r\") as f:\n",
    "    embedding_matrix = f['weights'][()]\n",
    "    embedding_dim = f['metadata/embedding_dim'][0]\n",
    "    num_distinct_words = f['metadata/max_token'][0]\n",
    "    sequence_length = f['metadata/sequence_length'][0]\n",
    "    \n",
    "from keras.models import Sequential\n",
    "from keras.layers import Dense, Input, Embedding, Flatten\n",
    "from keras.initializers import Constant\n",
    "from keras.models import Model\n",
    "\n",
    "\n",
    "sequence_input = Input(shape=(sequence_length,), dtype='int32')\n",
    "\n",
    "embedded_sequences = Embedding(num_distinct_words,\n",
    "                            embedding_dim,\n",
    "                            embeddings_initializer=Constant(embedding_matrix),\n",
    "                            input_length=sequence_length,\n",
    "                            trainable=False)(sequence_input)\n",
    "\n",
    "x = Dense(units=64, activation='relu')(embedded_sequences)\n",
    "x = Dense(units=32, activation='relu')(embedded_sequences)\n",
    "x = Flatten()(x)\n",
    "preds = Dense(units=2, activation='softmax')(x)\n",
    "\n",
    "model = Model(sequence_input, preds)\n",
    "model.compile(loss='categorical_crossentropy',\n",
    "              optimizer='sgd',\n",
    "              metrics=['accuracy'])\n",
    "\n",
    "print(model.summary())  # Dial\n",
    "model.save(DATADIR+compiled_model)"
   ]
  },
  {
   "cell_type": "code",
   "execution_count": 69,
   "metadata": {},
   "outputs": [
    {
     "name": "stdout",
     "output_type": "stream",
     "text": [
      "Epoch 1/2\n",
      "36/36 [==============================] - 0s 6ms/step - loss: 0.7008 - acc: 0.1389\n",
      "Epoch 2/2\n",
      "36/36 [==============================] - 0s 932us/step - loss: 0.6929 - acc: 0.4722\n",
      "Saved model to disk\n"
     ]
    }
   ],
   "source": [
    "# train.py\n",
    "\n",
    "# Input\n",
    "training_file = 'indexed.h5'\n",
    "label_file = 'label_and_index.h5'\n",
    "\n",
    "# Knobs\n",
    "epochs = 2\n",
    "batch_size = 64\n",
    "\n",
    "# Output\n",
    "compiled_model = 'compiled_model.keras'\n",
    "trained_model = 'trained_model.yaml'\n",
    "trained_weights = 'trained_weights.h5'\n",
    "\n",
    "from keras.callbacks import TensorBoard as tb\n",
    "from datetime import datetime\n",
    "t = datetime.now()\n",
    "tensorboard = tb(log_dir='tensorboard_logs/{:%Y-%m-%d-%H-%M}'.format(t))  # Dial\n",
    "\n",
    "with h5py.File(DATADIR+training_file, \"r\") as f1:\n",
    "    with h5py.File(DATADIR+label_file, \"r\") as f2:\n",
    "        x_train = f1['training_data']  # Note that Keras is special in being able to read the HDF5 _object_\n",
    "        y_train = f2['training_labels']\n",
    "        \n",
    "        model.fit(x_train, y_train,\n",
    "                  batch_size=batch_size,\n",
    "                  epochs=epochs,\n",
    "                  shuffle='batch',  # Required for using HDF5\n",
    "                  callbacks=[tensorboard])\n",
    "\n",
    "# serialize model to YAML\n",
    "# From https://machinelearningmastery.com/save-load-keras-deep-learning-models/\n",
    "model_yaml = model.to_yaml()\n",
    "with open(DATADIR+trained_model, \"w\") as yaml_file:\n",
    "    yaml_file.write(model_yaml)\n",
    "# serialize weights to HDF5\n",
    "model.save_weights(DATADIR+trained_weights)\n",
    "print(\"Saved model to disk\")\n"
   ]
  },
  {
   "cell_type": "code",
   "execution_count": 76,
   "metadata": {},
   "outputs": [
    {
     "name": "stderr",
     "output_type": "stream",
     "text": [
      "100%|██████████| 1/1 [00:00<00:00, 4940.29it/s]"
     ]
    },
    {
     "name": "stdout",
     "output_type": "stream",
     "text": [
      "Loaded model from disk\n",
      "149\n"
     ]
    },
    {
     "name": "stderr",
     "output_type": "stream",
     "text": [
      "\n"
     ]
    },
    {
     "data": {
      "text/plain": [
       "0.4919447"
      ]
     },
     "execution_count": 76,
     "metadata": {},
     "output_type": "execute_result"
    }
   ],
   "source": [
    "# inference.py\n",
    "\n",
    "# Input\n",
    "comments_text = [\"\"\"\n",
    "Reminder, if you're in the US, the FTC says your eye doctor must give you your prescription after your exam. If a doctor refuses to do so, they can face legal action and penalties.\n",
    "\n",
    "https://www.consumer.ftc.gov/blog/2016/05/buying-prescriptio...\n",
    "\n",
    "That said, I don't think the FTC stipulates what information must appear on the prescription. Many docs leave off your PD (pupillary distance), which is a necessary measurement if you're buying online. Fortunately, there are a variety of easy ways to take this measurement yourself after the exam, although if you're really concerned about precision, you'll want the doctor's measurement.\n",
    "\n",
    "And by the way, it should go without saying, but I'll say it anyway. Although the quality of eyewear available online can be comparable to what you'd get in store ... please don't think an online eye exam is an acceptable substitute for visiting an ophthalmologist in person and getting a comprehensive eye exam! \n",
    "\"\"\"]  # This will eventually be an API call\n",
    "trained_model = 'trained_model.yaml'\n",
    "trained_weights = 'trained_weights.h5'\n",
    "w2v_weights_and_word_index_mapping = 'w2v_weights_and_word_index_mapping.h5'\n",
    "\n",
    "# Knobs\n",
    "pass\n",
    "\n",
    "# Output\n",
    "pass  # Print to command line\n",
    "\n",
    "from keras.models import model_from_yaml\n",
    "\n",
    "# load YAML and create model\n",
    "with open(DATADIR+trained_model, 'r') as yaml_file:\n",
    "    loaded_model_yaml = yaml_file.read()\n",
    "    loaded_model = model_from_yaml(loaded_model_yaml)\n",
    "\n",
    "# load weights into new model\n",
    "loaded_model.load_weights(DATADIR+trained_weights)\n",
    "print(\"Loaded model from disk\")\n",
    "\n",
    "\n",
    "# preprocess (will eventually be call to same function)\n",
    "\n",
    "split_regex = r' |\\.'\n",
    "remove_regex = r\"\\'|\\\"|,|\\.|\\n|\\/|&#\\d\\d;|\\(|\\)\"\n",
    "tag_patterns = {'http.*\\w':' <LINK> '}\n",
    "positive_labels = ('pg', 'patio11', 'volida')\n",
    "sequence_length = 300\n",
    "\n",
    "pp_str = ''\n",
    "for line in tqdm.tqdm(comments_text):  # Dial\n",
    "    temp_text = line\n",
    "    temp_text = temp_text.lower()\n",
    "    for key, value in tag_patterns.items():\n",
    "        temp_text = re.sub(key, value, temp_text)\n",
    "    text = re.split(split_regex, re.sub(remove_regex, '', temp_text))\n",
    "    print(len(text))\n",
    "    text += ['']*(sequence_length-len(text))\n",
    "    text += ['\\n']\n",
    "    pp_str += ','.join(text)\n",
    "\n",
    "    \n",
    "    \n",
    "with h5py.File(DATADIR+w2v_weights_and_word_index_mapping, \"r\") as index:       \n",
    "    text_lines = pp_str.split('\\n')\n",
    "    indexed = np.zeros(shape=(len(text_lines)-1, index['metadata']['sequence_length'][0]))\n",
    "    keys = index['word_to_index'].keys()\n",
    "    for line_ix, wordlist in enumerate(text_lines):\n",
    "        for word_ix, word in enumerate(wordlist.split(',')):\n",
    "            if word in keys:\n",
    "                indexed[line_ix, word_ix] = index['word_to_index'][word][()]\n",
    "    \n",
    "loaded_model.predict(indexed)[0, 0]"
   ]
  },
  {
   "cell_type": "code",
   "execution_count": 84,
   "metadata": {},
   "outputs": [
    {
     "name": "stderr",
     "output_type": "stream",
     "text": [
      "50it [00:00, 17147.60it/s]\n"
     ]
    },
    {
     "data": {
      "text/plain": [
       "array([0.5030458, 0.5198821], dtype=float32)"
      ]
     },
     "execution_count": 84,
     "metadata": {},
     "output_type": "execute_result"
    }
   ],
   "source": [
    "# test.py\n",
    "\n",
    "# Call all the same \n",
    "\n",
    "test_filename = 'downloaded_test'\n",
    "trained_model = 'trained_model'\n",
    "\n",
    "# Input\n",
    "raw_data = 'raw_data_test.jsonl'\n",
    "\n",
    "# Knobs\n",
    "status = 'training'\n",
    "filter_bool = ('type', 'comment') \n",
    "split_regex = r' |\\.'\n",
    "remove_regex = r\"\\'|\\\"|,|\\.|\\n|\\/|&#\\d\\d;|\\(|\\)\"\n",
    "tag_patterns = {'http.*\\w':' <LINK> '}\n",
    "positive_labels = ('pg', 'patio11', 'volida')\n",
    "sequence_length = 300\n",
    "\n",
    "# Output\n",
    "pass  # Print\n",
    "\n",
    "actual_labels = []\n",
    "original_ids = []\n",
    "outfile_text = ''\n",
    "\n",
    "with open(DATADIR+raw_data, 'r') as infile:\n",
    "    with open(DATADIR+preprocessed_data, 'w') as outfile:\n",
    "        for line in tqdm.tqdm(infile):  # Dial\n",
    "            line_json = json.loads(line)\n",
    "\n",
    "            if line_json[filter_bool[0]] != filter_bool[1]: continue\n",
    "            temp_text = line_json['text']\n",
    "            temp_text = temp_text.lower()\n",
    "            for key, value in tag_patterns.items():\n",
    "                temp_text = re.sub(key, value, temp_text)\n",
    "            text = re.split(split_regex, re.sub(remove_regex, '', temp_text))\n",
    "            text += ['']*(sequence_length-len(text))\n",
    "            text += ['\\n']\n",
    "            outfile_text += ','.join(text)\n",
    "            \n",
    "            actual_labels.append(line_json['by'])\n",
    "            \n",
    "            \n",
    "with h5py.File(DATADIR+w2v_weights_and_word_index_mapping, \"r\") as index:       \n",
    "    text_lines = outfile_text.split('\\n')\n",
    "    sequence_length = index['metadata']['sequence_length'][0]\n",
    "    indexed = np.zeros(shape=(len(text_lines)-1, sequence_length))\n",
    "    keys = index['word_to_index'].keys()\n",
    "    for line_ix, wordlist in enumerate(text_lines):\n",
    "        for word_ix, word in enumerate(wordlist.split(',')[:sequence_length]):\n",
    "            if word in keys:\n",
    "                indexed[line_ix, word_ix] = index['word_to_index'][word][()]\n",
    "    \n",
    "preds = loaded_model.predict(indexed)\n",
    "preds.max(axis=0)\n",
    "# print(actual_labels)"
   ]
  }
 ],
 "metadata": {
  "kernelspec": {
   "display_name": "Python 3",
   "language": "python",
   "name": "python3"
  },
  "language_info": {
   "codemirror_mode": {
    "name": "ipython",
    "version": 3
   },
   "file_extension": ".py",
   "mimetype": "text/x-python",
   "name": "python",
   "nbconvert_exporter": "python",
   "pygments_lexer": "ipython3",
   "version": "3.6.8"
  }
 },
 "nbformat": 4,
 "nbformat_minor": 2
}
