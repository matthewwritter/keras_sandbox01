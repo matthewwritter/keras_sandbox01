{
 "cells": [
  {
   "cell_type": "code",
   "execution_count": 1,
   "metadata": {},
   "outputs": [],
   "source": [
    "%load_ext autoreload\n",
    "%autoreload 2"
   ]
  },
  {
   "cell_type": "code",
   "execution_count": 2,
   "metadata": {},
   "outputs": [],
   "source": [
    "#%run download_data.py"
   ]
  },
  {
   "cell_type": "code",
   "execution_count": 3,
   "metadata": {},
   "outputs": [
    {
     "data": {
      "application/vnd.jupyter.widget-view+json": {
       "model_id": "3ba7bba1e5c146a68fe1f5886b4ce8b2",
       "version_major": 2,
       "version_minor": 0
      },
      "text/plain": [
       "HBox(children=(IntProgress(value=1, bar_style='info', max=1), HTML(value='')))"
      ]
     },
     "metadata": {},
     "output_type": "display_data"
    },
    {
     "name": "stdout",
     "output_type": "stream",
     "text": [
      "\n"
     ]
    }
   ],
   "source": [
    "%run preprocess_text.py"
   ]
  },
  {
   "cell_type": "code",
   "execution_count": 4,
   "metadata": {
    "scrolled": false
   },
   "outputs": [
    {
     "data": {
      "application/vnd.jupyter.widget-view+json": {
       "model_id": "ef53eb3739e6491db058c1ded88f3e26",
       "version_major": 2,
       "version_minor": 0
      },
      "text/plain": [
       "HBox(children=(IntProgress(value=0, max=400001), HTML(value='')))"
      ]
     },
     "metadata": {},
     "output_type": "display_data"
    },
    {
     "name": "stdout",
     "output_type": "stream",
     "text": [
      "\n"
     ]
    }
   ],
   "source": [
    "%run train_w2v.py"
   ]
  },
  {
   "cell_type": "code",
   "execution_count": 5,
   "metadata": {},
   "outputs": [],
   "source": [
    "# import dask.dataframe as dd\n",
    "\n",
    "# df = dd.read_csv(DATADIR+preprocessed_data, dtype='S')\n",
    "# df2 = df.applymap(lambda x: {'we':1}.get(x, 0))\n",
    "\n",
    "# df2.head()"
   ]
  },
  {
   "cell_type": "code",
   "execution_count": 6,
   "metadata": {},
   "outputs": [
    {
     "name": "stdout",
     "output_type": "stream",
     "text": [
      "[ 66766 266478    210      6      0]\n",
      "[0 0 0 0 0]\n"
     ]
    }
   ],
   "source": [
    "%run index_text.py"
   ]
  },
  {
   "cell_type": "code",
   "execution_count": null,
   "metadata": {},
   "outputs": [
    {
     "name": "stderr",
     "output_type": "stream",
     "text": [
      "Using TensorFlow backend.\n"
     ]
    },
    {
     "name": "stdout",
     "output_type": "stream",
     "text": [
      "_________________________________________________________________\n",
      "Layer (type)                 Output Shape              Param #   \n",
      "=================================================================\n",
      "input_1 (InputLayer)         (None, 300)               0         \n",
      "_________________________________________________________________\n",
      "embedding_1 (Embedding)      (None, 300, 100)          40000100  \n",
      "_________________________________________________________________\n",
      "conv1d_1 (Conv1D)            (None, 296, 128)          64128     \n",
      "_________________________________________________________________\n",
      "max_pooling1d_1 (MaxPooling1 (None, 59, 128)           0         \n",
      "_________________________________________________________________\n",
      "conv1d_2 (Conv1D)            (None, 55, 128)           82048     \n",
      "_________________________________________________________________\n",
      "global_max_pooling1d_1 (Glob (None, 128)               0         \n",
      "_________________________________________________________________\n",
      "dense_1 (Dense)              (None, 64)                8256      \n",
      "_________________________________________________________________\n",
      "dense_2 (Dense)              (None, 32)                2080      \n",
      "_________________________________________________________________\n",
      "dense_3 (Dense)              (None, 2)                 66        \n",
      "=================================================================\n",
      "Total params: 40,156,678\n",
      "Trainable params: 156,578\n",
      "Non-trainable params: 40,000,100\n",
      "_________________________________________________________________\n",
      "None\n"
     ]
    }
   ],
   "source": [
    "%run model.py"
   ]
  },
  {
   "cell_type": "code",
   "execution_count": null,
   "metadata": {},
   "outputs": [
    {
     "name": "stdout",
     "output_type": "stream",
     "text": [
      "Loaded model from disk\n",
      "Epoch 1/5\n",
      "37054/37054 [==============================] - 134s 4ms/step - loss: 0.0684 - acc: 0.9874\n",
      "Epoch 2/5\n",
      "37054/37054 [==============================] - 120s 3ms/step - loss: 0.0636 - acc: 0.9876\n",
      "Epoch 3/5\n",
      "37054/37054 [==============================] - 121s 3ms/step - loss: 0.0626 - acc: 0.9876\n",
      "Epoch 4/5\n",
      "37054/37054 [==============================] - 120s 3ms/step - loss: 0.0618 - acc: 0.9876\n",
      "Epoch 5/5\n",
      "37054/37054 [==============================] - 118s 3ms/step - loss: 0.0609 - acc: 0.9876\n"
     ]
    }
   ],
   "source": [
    "%run train_model.py"
   ]
  },
  {
   "cell_type": "code",
   "execution_count": null,
   "metadata": {},
   "outputs": [
    {
     "name": "stderr",
     "output_type": "stream",
     "text": [
      "Using TensorFlow backend.\n"
     ]
    }
   ],
   "source": [
    "%run train_model.py"
   ]
  },
  {
   "cell_type": "code",
   "execution_count": 38,
   "metadata": {},
   "outputs": [
    {
     "name": "stdout",
     "output_type": "stream",
     "text": [
      "Saved model to disk\n"
     ]
    }
   ],
   "source": [
    "trained_model = 'trained_model.yaml'\n",
    "trained_weights = 'trained_weights.h5'\n",
    "\n",
    "# serialize model to YAML\n",
    "# From https://machinelearningmastery.com/save-load-keras-deep-learning-models/\n",
    "model_yaml = model.to_yaml()\n",
    "with open(DATADIR+trained_model, \"w\") as yaml_file:\n",
    "    yaml_file.write(model_yaml)\n",
    "# serialize weights to HDF5\n",
    "model.save_weights(DATADIR+trained_weights)\n",
    "print(\"Saved model to disk\")\n"
   ]
  },
  {
   "cell_type": "code",
   "execution_count": 42,
   "metadata": {},
   "outputs": [
    {
     "data": {
      "application/vnd.jupyter.widget-view+json": {
       "model_id": "a8e8f3e31454427087e6c7d386e53d08",
       "version_major": 2,
       "version_minor": 0
      },
      "text/plain": [
       "HBox(children=(IntProgress(value=1, bar_style='info', max=1), HTML(value='')))"
      ]
     },
     "metadata": {},
     "output_type": "display_data"
    },
    {
     "name": "stdout",
     "output_type": "stream",
     "text": [
      "\n"
     ]
    },
    {
     "data": {
      "application/vnd.jupyter.widget-view+json": {
       "model_id": "22c7c34794264bf9b684dcf882723944",
       "version_major": 2,
       "version_minor": 0
      },
      "text/plain": [
       "HBox(children=(IntProgress(value=1, bar_style='info', max=1), HTML(value='')))"
      ]
     },
     "metadata": {},
     "output_type": "display_data"
    },
    {
     "name": "stdout",
     "output_type": "stream",
     "text": [
      "\n"
     ]
    },
    {
     "ename": "FileNotFoundError",
     "evalue": "[Errno 2] No such file or directory: '/home/mritter/code/twitter_nlp/full_hn_usernames/data/trained_model'",
     "output_type": "error",
     "traceback": [
      "\u001b[0;31m---------------------------------------------------------------------------\u001b[0m",
      "\u001b[0;31mFileNotFoundError\u001b[0m                         Traceback (most recent call last)",
      "\u001b[0;32m~/code/twitter_nlp/full_hn_usernames/test_model.py\u001b[0m in \u001b[0;36m<module>\u001b[0;34m\u001b[0m\n\u001b[1;32m     66\u001b[0m \u001b[0;32mfrom\u001b[0m \u001b[0mkeras\u001b[0m\u001b[0;34m.\u001b[0m\u001b[0mmodels\u001b[0m \u001b[0;32mimport\u001b[0m \u001b[0mmodel_from_yaml\u001b[0m\u001b[0;34m\u001b[0m\u001b[0;34m\u001b[0m\u001b[0m\n\u001b[1;32m     67\u001b[0m \u001b[0;34m\u001b[0m\u001b[0m\n\u001b[0;32m---> 68\u001b[0;31m \u001b[0;31m# load YAML and create model\u001b[0m\u001b[0;34m\u001b[0m\u001b[0;34m\u001b[0m\u001b[0;34m\u001b[0m\u001b[0m\n\u001b[0m\u001b[1;32m     69\u001b[0m \u001b[0;32mwith\u001b[0m \u001b[0mopen\u001b[0m\u001b[0;34m(\u001b[0m\u001b[0mDATADIR\u001b[0m\u001b[0;34m+\u001b[0m\u001b[0mtrained_model\u001b[0m\u001b[0;34m,\u001b[0m \u001b[0;34m'r'\u001b[0m\u001b[0;34m)\u001b[0m \u001b[0;32mas\u001b[0m \u001b[0myaml_file\u001b[0m\u001b[0;34m:\u001b[0m\u001b[0;34m\u001b[0m\u001b[0;34m\u001b[0m\u001b[0m\n\u001b[1;32m     70\u001b[0m     \u001b[0mloaded_model_yaml\u001b[0m \u001b[0;34m=\u001b[0m \u001b[0myaml_file\u001b[0m\u001b[0;34m.\u001b[0m\u001b[0mread\u001b[0m\u001b[0;34m(\u001b[0m\u001b[0;34m)\u001b[0m\u001b[0;34m\u001b[0m\u001b[0;34m\u001b[0m\u001b[0m\n",
      "\u001b[0;31mFileNotFoundError\u001b[0m: [Errno 2] No such file or directory: '/home/mritter/code/twitter_nlp/full_hn_usernames/data/trained_model'"
     ]
    }
   ],
   "source": [
    "%run test_model.py"
   ]
  },
  {
   "cell_type": "code",
   "execution_count": 45,
   "metadata": {},
   "outputs": [
    {
     "name": "stdout",
     "output_type": "stream",
     "text": [
      "[byrneseyeview] the money gameearly optionstech entrepreneurs looking for seed money have more places to turn these daysby jaclyne badalapril 30 2007; page r6<p>the world of dot-com financing is changing and entrepreneurs are reaping much of the benefit<p>while the competition for deals remains stiff investors and researchers say tech entrepreneurs looking for seed money have more varied options these days indeed some investor groups and venture-capital firms are giving companies that are still in the concept stage faster access to modest amounts of cash and asking for less equity in return<p>seed money -- used to turn an idea into reality -- is among the toughest financing to secure for tech-related start-ups banks and professional investors are frequently reluctant to jump in at such an early stage the few entrepreneurs who manage to cut deals with venture-capital firms tend to give up huge chunks of equity something a lot of founders want to avoid<p>easier terms<p>but with the new approach -- driven in part by the falling cost of launching internet start-ups -- some venture capitalists and so-called angel investors are writing smaller checks and issuing them faster in return for either relatively small stakes upfront or convertible notes that can be turned into equity under certain future conditions<p>angel investors -- wealthy individuals who fund companies and tend to take a hands-off approach to day-to-day management -- were the largest source of funding at the seed and start-up stages last year backing roughly 23500 such ventures according to the university of new hampshires center for venture research jeffrey sohl director of the center estimates that roughly 35% of the $256 billion in angel investments last year went to early-stage companies<p>dr sohl says some 46% of angel deals were at the seed or start-up stage a proportion that the center expects could grow to as much as 55% in the next several years<p>venture capitalists meanwhile invested in more than 300 seed and start-up deals in 2006 up from 184 such deals in 2005 the center says<p>theres tons of money around and if you cant find it youre not ready to start a company says kenneth morse managing director of the massachusetts institute of technologys mit entrepreneurship center<p>tech coast angels corp a network of angel investors started in irvine calif recently launched a seed track funding program to get earlier access to companies candidates who look good on paper are invited to a screening session and have 30 minutes to sell their idea to about 10 angels with half the time used to field questions if investors are impressed the entrepreneur can get a check the same night or a few days later in return for as much as 10% or so of the company depending on valuation and check size<p>the tech coast network also offers more traditional funding for entrepreneurs but that route because it usually involves bigger investments can require about 500 hours of due diligence<p>checks for $25000 to $100000 in seed-track funding are common says tech coast angels founder luis villalobos in some cases the angels wont take equity upfront but will issue a convertible note which would be turned into stock if the company later provided equity stakes in a formal funding round<p>quick loans<p>on the venture-capital side quickstart seed funding program at charles river ventures llc menlo park calif offers loans of as much as $250000 at 6% interest and takes no equity upfront if the start-up does well and sells to venture capitalists the debt -- plus interest -- converts to stock at a discount of as much as 25% a $250000 loan with interest factored in would be worth up to $353333 in stock a year later entrepreneurs should note however that the firm wants to be an equal investor in any future funding round so it could ultimately end up with a more traditional venture-capital-size stake in a company -- say 20% or more<p>successful companies that never go for another round of funding but are bought out by another company say or go public are expected to pay charles river double the amount that they borrowed<p>a seattle-based start-up buddytvcom a discussion forum for television fans that also features original interviews with tv stars is one of the first companies to get funding under the charles river program buddytv corp chief executive andrew liu says the $250000 check came just five to seven weeks after his first meeting with charles river<p>the program was a great thing for us because we didnt spend much time on fund raising and could focus on the execution mr liu says the debt is currently outstanding mr liu hopes to have positive cash flow before trying for more funding for his company<p>seed-funding provider y combinator llc mountain view calif takes a slightly different approach it gives out less cash than most seed-money investors -- a company with two founders gets a check for $15000; one with three founders gets $20000 but y combinator devotes more time to teaching young engineers with interesting ideas how to be entrepreneurs about a dozen fledgling companies at a time attend 12-week programs in mountain view or cambridge mass where experts speak at weekly dinners<p>then at week 10 the start-ups make presentations to potential additional investors with the last session drawing about 60 outsiders y combinator usually ends up with about a 6% stake but the range can be from 1% to 10% depending on the companys initial valuation<p>its much easier to get seed money than it used to be says paul graham a partner at y combinator ten years ago a bunch of college kids starting a start-up had to go on hands and knees<p>but seed funding is still by no means easy money mr graham says this years winter session in mountain view had 200 to 250 applicants with the program accepting 13<p>charles river gets five to 10 submissions a day for its quickstart program but plans to fund only 10 start-ups this year says george zachary a partner in the firm<p>if it takes us more than five minutes to understand what the product is we are not going to fund it mr zachary advises<p>start-up hopefuls who dont get funding right away sometimes need to improvise until they do find capital some venture-capital firms like highland capital partners llc in lexington mass will give free or reduced-rate office space to start-ups that they like but arent ready to fund this allows the start-up to work side-by-side with other entrepreneurs and investors almost the entire first floor of highlands lexington office is devoted to highland-backed start-ups says highland managing general partner paul maeder<p>technical help<p>alternatively entrepreneurs can recruit engineers and other experts to the team in an effort to do as much as possible without outside investment<p>daniel marques couldnt get funding for his first internet business started as a freshman at babson college babson park mass so he and his partner brought in a third person to help with the technical aspect the trio kept expenses low and eventually gained positive cash flow and attracted an angel offer<p>finding the first risk-taker can be difficult says the 22-year-old mr marques but a lot of people want to be the second<p>no matter how successful a start-up is at attracting capital new hampshires mr sohl advises researching the investor before accepting any of the money venture capitalists or angels with even a small chunk of equity can become a problem if their plans for the company differ from the founders plans<p>make sure your visions align dr sohl warns: due diligence is a two-way street\n",
      "\n",
      "[jey] yes we can do a lot that we couldnt do 30 years ago however this <i>only<i> falls under the banner of ai because ai has been redefined from the promises of 50 years ago [1] when the goal of ai was to build human-level intelligent agents the dartmouth summer research project on artificial intelligence proposal [1] in 1955 when revered ai researchers marvin minsky inventor of lisp john mccarthy and inventor of information theory claude shannon claimed a significant advance can be made in one or more of these problems if a carefully selected group of scientists work on it together for a summer they failed at this lofty goal of solving the ai problem over a summer and over time the field of ai was <i>redefined<i> to be narrow fancy mathematical tricks to solve domain-specific problems   most ai is not intelligent at all instead they are approaches for searching some search space with a non-general-purpose tool such as genetic algorithms neural networks or first-order logic theorem provers a true ai would discover regularities [2] or patterns in any search space and exploit these patterns to incrementally improve its ability to navigate the search space examples of regularities in the world are that navigation is often best performed by sticking to the regularly appearing feature that we call a road instead of attempting to climb over buildings and that navigation can be effectively guided by attempting to minimize the euclidean distance between the current location and the goal location instead most of the currently available tools are essentially performing a stochastic search through the state space possibly guided by some heuristics<p>while a lot of progress is being made in the redefined and inaccurately named field of ai object recognition and speech recognition are still narrow domains they are not using general purpose approaches but instead tweaking and tuning specific algorithms to these areas in reality i am not championing for human-level ai as i think it would be very difficult to duplicate a humans strengths and deficiencies [3] accurately instead i am saying that we should be encouraging research that produces a general intelligence; software that can recognize and exploit regularities patterns in the state spaces of many problem domains and apply the abstracted knowledge gained from earlier experiences to new domains and problems such software would have a tremendous impact on society assisting us in solving and analyzing many problems and likely leading to an intelligence explosion after crossing some threshold at which the software is able to recursively improve itself [4]<p>you asked just about every specific useful task humans do better than computers there are a few dozen ai researchers working on it why is that not a reasonable approach to the problem? how do we take all these domain specific solutions and get a cohesive general intelligence out of them? i see these domain specific algorithms as being possibly useful to a general intelligence as an <i>optimization<i> to shift some of the load off of the more general purpose algorithms but i dont see how throwing a bunch of face recognition path finding neural network and genetic algorithms into a box would automatically cause a general intelligence to pop out these research areas seem mostly tangential or supportive to genuine artificial general intelligence research<p>1 <a href= <LINK> >\n",
      "\n",
      "[fsilber] i have must have learned at least a dozen programming languages in my time and none was as difficult and as counter-intuitive as c++  compared to c++ ada was simple  i think c++ was just a bad idea a clumsy attempt to merge two incompatible paradigms<p>in classical imperative programming eg c algol fortran pascal and basic procedures contain and copy data structures  the heap primarily exists when unusual flexibility is needed eg when the number of data objects you need isnt known until runtime so you manage them with a global heap-based collection  generally you try to avoid using the heap and where you must use it you build an api around your collection to hide the nasty ugly details<p>compared with imperative programming object orientation provides a kind of inversion of control  instead of having procedures which contain and manipulate data structures you have objects which contain methods to handle the messages that other objects send it  objects manage their own lifecycles and storage allocation  this sort of distributed control implies a level of abstraction well above concerns about storage management  instances of subclasses tend to be larger than instances of their parent classes but so users of these polymorphic objects are presumed to be above worrying about the storage they take up  but that makes us dependent upon that nasty heap -- is it any wonder that the vast majority of object oriented languages _presume_ automatic garbage collection?<p>the very fact that the c++ programmer is responsible for storage management implies that c++ objects are not to be visualized as independent and cooperating entities that manage their own lifecycles -- because then it becomes unclear as to who will have responsibility for cleaning up<p>systems programming is of necessity low-level; a reliance upon automatic  garbage collection simply isnt appropriate for those kinds of problems  therefore instead of trying to add object orientation to c and therefore an over-reliance upon the heap i think wed have been better off to begin by simply adding a strong polymorphic type system  then we could write systems programs with a manageable degree of genericity without requiring every programmer to become a language-lawyer interpeting seemingly conflicting regulations or an empirical scientist running experiments to determine what his programming language does in a given situation<p>if we could then create easy hooks by which an object-oriented language could make calls to low-level subroutines written in that systems programming language so much the better\n",
      "\n",
      "[MEHOM] <p>for those who are too lz to click the link<p> <i><i><i><i><i>may 1 2007high court puts limits on patentsby linda greenhouse<p>washington april 30  the supreme court in its most important patent ruling in years on monday raised the bar for obtaining patents on new products that combine elements of pre-existing inventions<p>if the combination results from nothing more than ordinary innovation and does no more than yield predictable results the court said in a unanimous opinion it is not entitled to the exclusive rights that patent protection conveys were it otherwise justice anthony m kennedy wrote in the opinion patents might stifle rather than promote the progress of useful arts<p>because most inventions combine previously known elements the courts approach to deciding what sort of combination is so obvious as to be ineligible for patent protection will have widespread application the result will be to make patents harder to obtain and defend<p>granting patent protection to advances that would occur in the ordinary course without real innovation retards progress justice kennedy said he added that such patents were also undesirable because they might deprive earlier innovations of their value or utility<p>patent law experts said the ruling created a common sense standard that could have a broad impact<p>nearly every patent that contains a combination of prior ideas is at risk because the court has dramatically broadened the standard of obviousness said cynthia kernick an intellectual property lawyer at reed smith in pittsburgh<p>judges will have more leeway to dismiss patent infringement lawsuits without requiring a jury trial and patent examiners who generally grant patent applications unless they find prior references to the same invention will now feel freer to deny claims said matthew kreeger an intellectual property lawyer at morrison and foerster in san francisco<p>and we could see thousands of cases asking the patent office to re-examine patents it has already granted said mr kreeger who was one of the lawyers who had prepared a brief filed by the biotechnology industry organization in support of the patent it doesnt take a lot of resources to ask for a re-examination to be eligible for a patent an invention must be novel useful and not obvious to a person of ordinary skill in the field the supreme court case concerned a fairly typical dispute over whether a combination of old elements in a new way was new or simply obvious to any expert<p>at issue was an adjustable gas pedal for use on cars and trucks equipped with electronic engine controls how could the vehicles computer tell the pedals position? a canadian company ksr international under contract to general motors solved the problem by mounting an electronic sensor at the pedals fixed pivot point in order to communicate the necessary information<p>a rival teleflex inc demanded royalties claiming the device infringed its patent on an adjustable gas pedal equipped with an electronic sensor ksr refused to pay on the ground that teleflex had combined existing elements in an obvious manner and that its patent was therefore invalid ksr won in federal district court in detroit but that decision was overturned in 2005 by the united states court of appeals for the federal circuit<p>that court in washington has exclusive jurisdiction over patent appeals after years of permitting its judgments to stand unreviewed the supreme court has begun to take an active interest in the federal circuits cases and has overturned several including a second case the justices decided on monday in favor of microsoft in a dispute with at&t<p>in granting judgment for ksr on monday in ksr international co v teleflex inc no 04-1350 the supreme court listed several specific errors and fundamental misunderstandings in how the federal circuit had analyzed the case in looking at the teleflex patent justice kennedy said the appeals court made the mistake of considering what a pedal designer writing on a blank slate would have done to solve the problem of the pedal and the sensor but the slate was not blank he continued and the teleflex patent was essentially an upgrade of existing technology<p>justice kennedy said the problem was not necessarily the federal circuits overall approach but rather its rigid way of applying a commonly used legal test the test requires a person challenging a patent as obvious to identify a reason that would have prompted someone to combine two or more previous inventions such as published articles suggesting such a combination this has made it difficult to attack a patent as obvious and has often precluded summary judgment instead requiring an expensive jury trial<p>justice kennedy said that this test in the federal circuits hands had led to a constricted analysis that paid too much attention to an inventors motivation and too little to a simpler inquiry: whether there existed at the time of invention a known problem for which there was an obvious solution the teleflex patent fit that description he said<p>the federal government which had sided with ksr argued that the federal circuits approach had led to the granting of too many patents to obvious inventions pharmaceutical and biotechnology industry groups entering the case for teleflex argued that innovation would suffer if patents became too hard to defend<p>in a sense the case presented a moving target while the ksr appeal was pending the federal circuit issued several decisions reflecting openness to challenges to patents as unworthy because of obviousness those decisions of course are not before us now justice kennedy said<p>court sides with microsoft<p>washington april 30 ap  the supreme court sided with the microsoft corporation on monday finding that patent law does not apply to software sent to foreign countries<p>in a 7-1 decision the court rejected at&ts position that it was entitled to damages for every windows-based computer made outside the united states using technology that compresses speech into computer code<p>at&t had said computers running the windows operating system infringed on its technology for a digital speech coder system<p>the decision could affect other lawsuits against microsoft and save it billions because of the global scope of its operations<p>the supreme court said software should be treated like exported blueprints and schematics\n",
      "\n",
      "[rms] kratom is a rare stimulant that makes you more productive it is unfortunate that our culture chooses to only tolerate caffeine which makes you twitchy and nicotine which slowly kills you<p>kratom is currently neither a food drug or herbal supplement which puts it in a weird legal wasteland kratom is usually consumed as a tea it is very palatable when sweetened with sugar and contains healthy anti-oxidants[1] one of the active alkaloids of kratom 7-hydroxy mitragynine is an incredibly strong opiate 17 times as strong as morphine[2] kratom has been further tested as a drug on your average variety of small mammals this study is on a guinea pig where they didnt get the 17x number but concluded that 7-hydroxy-mitragynine is a dose dependant antinociceptive that is stronger than morphine[3] they do a follow up study demonstrating cross tolerance with morphine [4]<p>erowid[5] is the authoritative list of studies[6] on the subject of kratom you can read more than 50 personal experiences with kratom mostly with regards to it as a recreational drug though some individuals there use it as a substitute for real opiates or to potentiate other drugs most of the negative experiences can be attributed to people incorrectly consuming kratom[7] kratom is properly consumed as a tea with lots of sugar and the extra kratom powder filtered out with a french press<p>kratom is completely legal everywhere except some of its native southeast asia: thailand burma and malaysia and australia[8] it is legally grown in indonesia and india though i havent found any real mitragyna speciosa sold out of india most of the guys on ali baba are selling fake kratom except ph all of the kratom on the market comes from this mystery world landowner who owns dozens of legal drug plantations in all the continents if anyone could undercut him for one of his major products the second supplier would make a lot of money because a successful international kratom operation could source kratom 100 fold cheaper than ph this would require you to grow your own kratom in a warm wet climate or travel to indonesia and give people money to take you to the kratom which would probably work unfortunately i dont have any contacts in indonesia or anywhere else where kratom is legally grown maybe one of these days i can take a sourcing trip<p>im not trying to push a drug here im trying to tell the truth this is a substance with a lot of potential and i would love to collaborate on research with anyone that is interested <p>[1]the antioxidant alkaloids in cats claw  <a href= <LINK> >\n",
      "\n",
      "[vlad] <i>do it<i><p>author: andy hertzfeld june 1982 <p>many of the academic types who were involved in creating the earliest implementations of the graphical user interface at xerox parc and various universities sort of sneered at the first generation of personal computers when they appeared in the mid-seventies since the early personal computers were much less powerful than the machines that they were used to programming there wasnt that much you could do with only four kilobytes of memory and no disk drive <p>but larry tesler who was a key member of the smalltalk team in the learning research group at xerox parc felt differently he was really excited by the potential of personal computers buying a commodore pet as soon as one became available in 1977 he was one of the demonstrators at apples famous xerox parc visit in december 1979 and he was so impressed by the apple visitors that he quit parc and started working at apple on july 17 1980 as the manager of the lisa applications team <p>larry championed consistency between applications and made many contributions to what eventually became the macintosh user interface he was also the leading advocate and implementor at apple of user testing: actually trying out our software out on real users and seeing what happened starting in the summer of 1981 larry organized a series of user tests of the nascent lisa software recruiting friends and family to try out the software for the first time while being observed by the apple designers who recorded their reactions <p>the user tests were conducted in a specially constructed room featuring a one-way mirror so observers could watch the tests without being intrusive the tests were conducted by a moderator who made sure the user felt comfortable and showed her the basics of using a mouse then with no further instruction users were asked to perform specific tasks without help from the moderator like editing some text and saving it the moderator encouraged each user to mumble under her breath while doing the tasks revealing her current thinking as much as possible each session was audio or videotaped for later analysis <p>when the software required confirmation from the user it displayed a small window called a dialog box that contained a question and presented two buttons for positive or negative confirmation the buttons were labeled do it and cancel the designers observed that a few users seemed to stumble at the point that the dialog was displayed clicking cancel when they should have clicked do it but it wasnt clear what they were having trouble with <p>finally the team noticed one user that was particularly flummoxed by the dialog box who even seemed to be getting a bit angry the moderator interrupted the test and asked him what the problem was he replied im not a dolt why is the software calling me a dolt? <p>it turns out he wasnt noticing the space between the o and the i in do it; in the sans-serif system font we were using a capital i looked very much like a lower case l so he was reading do it as dolt and was therefore kind of offended <p>after a bit of consideration we switched the positive confirmation button label to ok which was initially avoided because we thought it was too colloquial and from that point on people seemed to have fewer problems\n",
      "\n",
      "[nostrademons] i was gonna post a comment similar to this one on reddit but i didnt think itd be appreciated  i think ill manage to piss off both the austrian school misesorg libertarians and the i-always-get-screwed-by-corporations liberals<p>free markets work when they transmit information with each transaction  when a factory owner raises his prices to cover rising costs hes encapsulating information about <i>everything<i> thats happened further up the value chain  when a shopkeeper lowers the price hes willing to pay hes encapsulating information about consumer demand and everything downstream in the value chain  if a new means of production becomes available thats more efficient than the old one theres a profit opportunity available for the aspiring entrepreneur  and everybody has an incentive to pass on correct information because otherwise its their own bank account that will suffer  this appears to be the <i>only<i> way to organize an economy efficiently<p>free markets <i>fail<i> when transactions conceal information  for example many subprime loans were made to people who had no conceivable way of paying them off but mortgage brokers had every incentive to hide that information from the hedge funds who bought them and didnt have to shoulder the risk of default themselves  health-care patients have no way of knowing whether a particular procedure is medically necessary and no incentive to find out because the insurance company pays for it  microsoft customers had no way of knowing whether windows is the best os because there were no alternatives well except apple and linuxpretend this is 1997 or so<p>theres also the issue of transaction costs - it costs nearly as much money to collect tolls as it does to just build the damn highway so the information that the customer sees is heavily distorted by the process of having to collect that information<p>so based on this i can derive some general principles for the role of government:<p>1 it should provide the institutional framework necessary for the market to function at all eg contract laws and defense<p>2 it should rectify the lemon problem where sellers conceal vital information from buyers or vice-versa eg consumer protection laws implied warranties truth-in-advertising laws full disclosure on mortgages sec regulation etc<p>3 it should prevent companies from leveraging a monopoly to enter a market<p>4 it should rectify externalities where a firm takes something of value to others but doesnt pay for it usually because its too difficult to arrange a transaction  the classic example is pollution<p>5 it should provide goods and services where the transaction cost of attempting to measure and restrict usage is greater than the actual value of the service  markets will never develop in these areas otherwise  a good example would be roads<p>some concrete examples whichll probably seem kinda out-there:<p>to start i wouldnt have any taxes at all  instead the government owns all land and raises revenue by auctioning off leases on land natural resources and pollution credits  these leases would be tradable subdividable securities and would be subject to normal sec prohibitions on disclosure and insider trading  if you wanted to construct a skyscraper that you expect to last 50 years youd buy a 50-year lease on the land  if you ended up selling it after 20 you could sell the lease on the open market but the land itself would revert back to the government after another 30 years  the government can also buy the lease back by paying market rates<p>this helps the externality problem because every time the voters want to prevent something like a polluting factory they have the legal ability to but they also have a precise dollar figure for how much itll cost in economic terms  if people dont want oil companies to drill in the arctic national wildlife refuge they can simply block the lease on drilling rights but it will cost them a few billion dollars  then they can decide whether the economic value to oil companies is worth more than the government services they will receive from it<p>as for spending itself - roads are an obvious one because the transaction costs of tolls are hellish  defense is another one - i dont think we need to spend quite so much as we do but we do need a strong military<p>i would <i>not<i> provide free education other than the basic literacy and civic requirements necessary for democracy to function  you tend to get what you pay for  free education not only leads to bureacratic uncaring schoolboards but it also leads to freeriding uncaring schoolchildren  <p>instead id create rigorous public evaluations of all schools - not necessarily tests which generally reflect the politicians biases more than actually useful information but statistics about where graduates end up satisfaction levels evaluations from past students etc  then let people choose - and spend their own money - on schools  since people shouldnt be denied education based on what their parents do there should be loans available - but through the private sector not public  <p>also education has a problem in that it takes years for it to pay off and market conditions can change dramatically between when you enter and when you exit  to insure against this id create a tradable derivative called salary futures again through the private sector  this is not insurance on <i>your<i> salary that would have a huge moral hazard problem but rather a promise to pay the change in the difference between the average salaries of two professions  these can be bundled into funds if necessary to diversify across the whole economy  so if you want to become an engineer but find that salaries have gone way down by the time you graduate your salary future will kick in with the difference for x number of years and then you can decide whether to stick with it or retrain as a lawyer<p>health care is tricky because nobody wants to die and if life really is priceless then people should be willing to pay infinite amounts of money to avoid dying  markets arent meant to deal with infinities id need to think about this; i suppose if i actually came up with a workable solution id be rich and famous and wouldnt be posting it on a glorified message board ;-\n",
      "\n",
      "[nostrademons] do you think the presence of a well-run emerging markets investment fund through gates money would help africa more or less than free vista-loaded computers?<p>until africa has the institutions necessary to support a free market gatess philanthropy which actually is aimed more towards health and basic literacy than free computers is <i>much<i> more useful than an emerging markets fund<p>many die-hard free-marketers dont realize this but markets require <i>significant<i> institutional support before they even become workable let alone efficient  you need private property rights  you need contract law  you need courts that enforce laws in a predictable non-arbitrary way  you need literacy  you need a culture that believes that its worth sacrificing todays pleasure for tomorrows happiness  you need a rational belief that there <i>will<i> be a tomorrow and you wont die from some random illness or machete-toting warlord in the meantime  you need transportation infrastructure to move goods and services between locations  you need a stable currency thats accepted by everyone youre likely to do business with and wont be hyperinflated away on a warlords whim<p>africa has none of these<p>so pouring <i>any<i> sort of money into africa whether it comes from charitable donations or a hedge fund means pouring it down a black hole  theres nothing special about the private sector that makes it immune to this  normally private firms do better because ones that fail get replaced by ones that succeed  well fine  theyll all fail as will all their replacements<p>gates is working at trying to supply the basic infrastructure necessary for a market economy to emerge  in order to have markets you must have contracts and private property  in order to have contracts you must have literacy  in order to have literacy you must have education  in order to have education you need a reasonable belief that you wont die next week from a random illness  <p>so the gates foundation starts the process there: ensure that people have a reasonable belief that they wont die next week  it finds villages that already have a reasonably stable food supply and are not in the middle of a civil war those for the moment are beyond help unless you get the us military involved  it then vaccinates the children installs pumps for clean water teaches them some basic sanitation rules like dont shit upstream of your water supply and so on<p>education only becomes realistic once children have a reasonable expectation that they wont die  once they do you can work on literacy  once you have literacy you can try to change the institutions of the host country  more likely youd want to get some small-scale trade going among villages and between villages and the west  this is why the internet is potentially so important over there - it lets african villagers bypass the corrupt warlords and governments above them<p>but not before they have the basics down  its meaningless to speak of an emerging markets fund going into many african countries  theres no market at all let alone an emerging one\n",
      "\n",
      "[create_account] venture funding: the stupidest idea ever?vc was dissatisfied working on smart ideas so he went the other wayby elise ackermanmercury newsarticle launched: 10022007 01:35:04 am pdt<p><pre><code> as managing director of garage technology ventures guy kawasaki funded all the really smart ideas he could find none hit it big<code><pre>so earlier this year the guru of silicon valley start-ups decided to fund a really dumb idea that cost as little as possible<p>in may kawasaki started truemors a site specializing in what it calls true rumors submitted by readers it cost less than $13000 to launch and was almost immediately dubbed the worst site ever by a leading european technology news site<p>why would a respected venture capitalist and author of bestselling business books make a site like truemors his next act? because kawasaki 53 wanted to get firsthand experience with a user-generated web 20 social-media web site<p>he also felt that starting the site would illustrate what he saw as a problem with venture capital - these web 20 sites did not need lots of funding and even if they did it was becoming harder for vcs to pick the winners<p>for nine years kawasaki and his partners had invested millions of dollars in companies that seemed like smart bets they had their share of successes but nothing on the order of google or yahoo<p>meanwhile ideas he dismissed became stock market sensations<p>like yahoo in 1995 venture capitalist michael moritz of sequoia capital asked kawasaki if hed like to interview to be chief executive of yahoo it was a list of david and jerrys co-founders filo and yang favorite web sites kawasaki recalled it had no business plan<p>kawasaki said no years passed two guys from stanford created yet another search engine the 15th search engine - what a dumb idea kawasaki quipped about his reaction that turned into google<p>the only thing you can conclude is that its a crap shoot kawasaki said in a recent interview at his home office in atherton you have no idea what is going to succeed<p>bill reichert kawasakis partner at garage technology ventures said the tipping point for his partner came after kawasaki chaired a panel discussion featuring start-ups like hot or not - a web site where men and women submit photos to be rated by strangers - and plenty of fish - a free dating site<p>neither site had raised venture capital but both were enjoying advertising sales of more than a million dollars a year that made it clear to the folks at garage that the problem was the venture capital model itself which seemed out of whack<p>kawasaki decided to find out how little it cost to start a web 20 company himself he paid $4500 to web developers in south dakota whom he had met through his personal blog he spent $4824 on legal fees he spent almost $3000 more on a logo domain names and other miscellaneous expenses<p>and he began devoting himself to what he truly loved: selling products and ideas<p>at apple computer in the 1980s and 1990s kawasaki had helped turn macintosh users into apple fanatics he left the company in 1997 and made a career as a venture capitalist and speaker his book the art of the start became a bible for would-be entrepreneurs<p>some of his key advice: dont be afraid of polarizing people and dont let the bozos grind you down<p>two days after he launched truemors kawasaki discovered the value of his own advice<p>kawasaki had wanted the site to be a place where news and gossip met he imagined his average reader as a google programmer who was about to go on a date with an east bay non-profit activist<p>what would they talk about? truemors could help its news items covered everything from politics to sports hollywood gossip and technology culled from the web and occasionally firsthand accounts<p>i promise if you read truemors it will make you a more interesting person kawasaki said<p>unlike digg a similar user-generated site that lets people rank stories on its front page truemors lists stories in the order they were submitted users can vote to move a story to a greatest page - or to the dumpster if they think something is untrue<p>the blogospheres first reaction to truemors was a blistering attack a hacker broke in obscenities were submitted as news kawasaki himself was trashed<p>i have a very low opinion of the blogosphere kawasaki said i think it is made up of about 250000 people who are mostly 45-year-old men who live with their mother and have dead cats in their refrigerators<p>kawasaki didnt let the bozos get him down he cleaned up his site the attacks quickly died down<p>earlier this month the european news outfit with the scathing early review recanted were big enough to admit that truemors is definitely not the worlds worst web site any longer martin veitch executive editor of it week wrote in a sept 10 article on theinquirernet a technology news site<p>kawasaki said the coverage was responsible for a huge spike in page views which are now averaging about 150000 a month according to google analytics<p>drew curtis founder of fark a web site of interesting and amusing news stories that was one of kawasakis inspirations said those numbers are pretty good he said fark which now gets 53 million page views a month got only 50000 page views in its first year fark was launched in 1999<p>he certainly has critical mass curtis said of kawasaki<p>kawasaki insists he wants the site to be a success but he acknowledges that the stakes are not high his monthly break-even point is only $3000<p>kawasaki is still a venture capitalist and continues working with garages portfolio of companies truemors helps me understand web 20 better than any other experience he said life is good for entrepreneurs these days\n",
      "\n",
      "[nostrademons] a few examples:<p>blockbuster  for a long time blockbuster was thought to be invincible in the video rental space because they bought up all the prime real estate close to video renters  because you could always find a blockbuster near you people became regular blockbuster renters which gave them a steady revenue stream and reliable borrowers so they could afford to buy up even more prime real estate which enhanced their brand which got them even more people hooked  they are in the process of being killed by netflix because netflix realized that with the internet you didnt need a physical store presence at all rendering blockbusters real estate advantage moot<p>ibm  ibm came to own the computer market by offering cios a single model the system360 that would serve all their needs - it could run all the software people needed and it was expandable with compatible more powerful models for when you outgrew its computing capabilities  as a result nobody ever got fired for buying ibm  as more fortune-500 cios bought ibm it became more unthinkable to buy anything else because the whole industry was used to ibm machines  they were killed by microsoft and the pc revolution because this dropped the prices of computers  business software to the point where cios were no longer making the purchasing decisions  the department heads and small business owners who now made the buying decisions were used to pcs at home so they bought pcs<p>the rothschilds  the rothschilds provided liquidity in european financial markets for most of the 19th and early 20th century frequently serving as the buyer of last resort during financial panics  in doing so they developed very strong connections to the ruling governments in europe  these personal relations let them charge a premium when loaning money which helped them build up capital which increased their power to ask as a source of liquidity which improved their power connections  however theyve been hurt badly by the rise of america as a major financial center they have few or no connections to the american government and by the massive growth of capital markets  they no longer have the funds available to compete with wall street giants like goldman sachs bear sterns etc<p>if you look at these there are basically two ways to break a network-effect monopoly:<p>identify the factor of production that lets them operate so efficiently  search for a technological breakthrough that makes that advantage <i>irrelevant<i>  use every advantage the technological breakthrough gives you to deliver the service better and cheaper than the incumbent  eg: netflix<p>identify a group of people who form a potentially large market yet are marginalized by the customers of the monopoly you want to break into  offer a product that makes this marginalized group more powerful than the customers of the monopoly  profit as they become the dominant customer group  eg ibm rothschild\n",
      "\n",
      "[gigamon] in the beginning of a startup especially one that has multiple co-founders of equal stature the command structure is exactly that of a hunting party  that is members of the party do not have rigid roles although they each have distinct skills  their lives center around well-defined hunting events the success of each is important for their subsequent survival  <p>the decision making process tends to be ad hoc and each person can take on multiple and often overlapping roles which can change from event to event depending on the need of the team and also their ability to perform that same role in a previous event  in other words the command structure is very flat and communication between each member is direct and unambiguous   most importantly consensus is a requirement since everyone is equal and while there might be a leader there cannot be a dictator  it is a democracy as well as a meritocracy<p>an operating company is like a village which is led by a single leader who is not popularly elected but appointed by a group of elders and has dictatorial power over the villagers  there is usually unspoken but well understood rules on what is proper conduct for each member of the village include the leader the elders who are the ones that bestow the authority the captains the foot solders and all the other supporting personnel including the children that make the village livable and sustainable<p>the command structure of the village is no longer flat  decisions that are made at the top need to be propagated as well as diffused into the individuals  consensus is less important and is replaced by consultation  decisions are made by mandates and not through bartering among equals  in order to function there has to be both punishment and rewards  punishment of the non-performers is actually an important form of rewards for the performers  most importantly unlike a hunting party the roles are much more well-defined and much more rigid<p>it is very difficult for a hunting party to naturally evolve into a village  the requirement is for some of original hunters to give up their executive power to become non-executive elders and to elect a single leader to become an authoritative figure who can make unpopular decision for everyone to follow<p>it is almost impossible for a startup with multiple equal co-founders to grow beyond the original flat command structure because it is unnatural for anyone to give up power or influence especially if they were the ones who made the company successfully in the first place<p>the hunters are individual contributors who at best can evolve into middle managers  but middle managers who are also major shareholders would have a hard time separating their ownership interest from their fiduciary responsibility<p>it is a very interesting problem to solve<p>--denny--<p>denny k miu<p><a href= <LINK> >\n",
      "\n",
      "[ryanmahoski] i wonder if there may be a way to build the wall you describe in the general-public site pretend you could rate commenters not publicly but privately--for your own private use if you spot a particularly dumb comment on reddit you could blacklist the commenter--privately so that your action would affect only you similarly when you notice a brilliant comment you will want to permanently highlight its author so that for you--and only you--the author has an advantage on your attention in the future commenters you perceive as intolerable would never have another shot at your attention while commenters you view as geniuses would forever get artificially modded up--but only to your eyes <p>the same algorithm could work for postings if i want more ron paul peace be upon him i can privately champion those authors who celebrate his news items you may have had enough of the distinguished doctor-representative from texas so you could exercise your prerogative to ignore or artificially down-mod just for you submitters whom you view are overly sympathetic to him<p>further thoughts on reddits comment system<p>problem: logical fallacies largely go unchecked just today someone replying to my comment pulled a tautology so i reflexively linked to the appropriate wikipedia page as mentioned ad hominem is a more popular sin and the list goes on what if when i clicked on the report link i could select from several logical fallacies? in this way if enough others agreed with me we could get an official-looking stamp on the offending comment--corresponding to what the community felt was the logical fallacy eg straw man false analogy non sequitur<p>problem: today if i submit a comment and i down-mod all other comments i increase my comments visibility i want my comment to have visibility that is why i wrote it and i suspect other redditors may employ the cheat so i face an ethical dilemma we can talk about real-life karma but why tease commenters to begin with? solution: if you comment you cant vote in the thread<p>problem: i imagine a lot of redditors like me sort by top-flat and i suspect most of the remaining redditors sort by top-nested so if i comment i significantly increase my visibility odds if i reply to the front-runner comment to the extent i care that people will read what i write i will tend to favor the popular comments--even if they are not as worthy of a response as those nearer the bottom\n",
      "\n",
      "[nostrademons] that wasnt the proposal in the article  it was for a <i>segment<i> of the wireless spectrum to be auctioned off with the restriction that it be open to any device that meets certain specifications  the big-4 wireless carriers can keep their allotted bands; this is a new part of the electromagnetic spectrum that is scheduled to be auctioned off shortly anyway<p>if the wireless spectrum is ours as in the us peoples it makes sense that we can restrict its usage in whatever way would benefit the people most  it also makes sense that one such way would be to restrict its usage so that the buyer cannot restrict other firms usage of it<p>its essentially an easement  you know what an easement is right: the owner of the property sells off certain rights and restrictions to a third-party  for example power companies will buy an easement to run high-tension lines over a field  wealthy individuals will sell an easement stating that their land will become conservation land after their death and the owner will be prohibited from developing certain areas  in this case the government is giving an easement for open-access to the general public and selling off the remaining rights to that portion the em spectrum to the highest bidder<p>there is no economic reason why this chunk would sell for higher than the existing telecoms slices  its usage rights are restricted: generally an easement lowers the value of the remaining property rights since you can do less with it  also if you read the article youll notice that its being <i>auctioned<i> off which means the government isnt setting a price its selling it to the highest bidder who will presumably be responsible for developing the network and putting up cell towers<p>actually if i had a few billion dollars in funding and a plan for putting up cell towers more cheaply than the established carriers id buy it  this could be a game-changer on the same order as intels invention of the microprocessor  before intel the minicomputer field was much like the wireless field with many vertically-integrated carriers stifling innovation  because intel and microsoft decided to focus only on one area and relentlessly lower costs letting others innovate in the app sphere the pc market exploded  we all know how it worked out for intel and microsoft<p>even if the government doesnt grant this easement a savvy investor should swoop in and make that portion of the spectrum open-access anyway  theres potentially a <i>massive<i> market there  too bad i dont have a billion dollars\n",
      "\n",
      "[NSX2] hi! i just finished reading this short sweet easy-to-read book called one small step can change your life: the kaizen way by robert maurer  its a psychologists attempt to figure out why kaizen-based micro-plans small steps continuous action approaches to project management seem to consistently succeed where other much more sophisticated approaches never take off<p>executive summary: kaizen works because people actually take to it and implement it they do so because making teeny weeny plans sparks the higher order creative parts of the brain necessary to get things done whereas big complicated sophisticated long-term plans cause stresswhich in turn stimulates parts of the brain which were wired to shut off the higher orders of the brain so we can focus on running away from hungry predators fight or flight this in turn leads to brain freeze as different and competing sections of your brain literally start fighting with each other for brain resources sugar magnesium etc which leads to procrastination which leads to the big complicated plans never being put into action<p>solution? make ridiculously small plans to overcomeprocrastination and bypass your brains built-in resistance to doing things people need to do to succeed in the modern age<p>example: next time you feel flustered just make it your goal to sit down and write 3 lines of code then go have fun with your xbox easy right? too easy perhaps then you think to yourself well that wasnt so bad i guess i can write a lot more than just 3 lines  maybe i can do half an hours worth of coding  next thing you know the sun will be coming up and youll wonder how you spent the whole night working without even noticing  sounds too good to be true sounds silly even yet this guys figured out exactly how the brains wiring gets in the way of modern work and how to bypass it<p>another gem: the manual egg timer thing with turn dial set to 5-10 minute bursts of intense activity as in im going to bust my ass clearing my email inbox for just 5 mintues  funny how easy it is to keep going way after the first 5 minutes once you actually get the process started<p>its about $12 hardcover 180 or so small pages with big big print and plenty of space in between fun to read and full of insights as to why you fail when you try too hard to succeed but wind up succeeding when you focus on just enjoying yourself trying hard makes the brain think youre going to war shuts of the frontal lobes and gets adrenaline flowing which in turn sucks magnesium out of your thinking activities and into your bodys central nervous system as it prepares for intense physical effort  which is why you can find yourself exhausted after a hard days work when practically nothingof any significance was accomplished<p>anywhoooo  if you found the above interesting enough to read the book and the book inspiring enough to apply the simple advice and the advice effective enough to improve your coding sessions i ask you consider the following as equal exchange:<p>i am in new york city area i want to do a startup like the rest of you i am not a haxor  but my background is in its own way completely relevant to what i want to dotechnically the idea is more of a different use of mostlyalready existing technologyplatforms not a radically new technology thing and from my research most of the stuff  functions can be found in open-sourceapplications<p>nonetheless i need some techies connections would be appreciated or insights into your minds: how do you folks like to be approached? what is most important to you in a startup? hours? freedom? dress code? impact on the world at large and the resulting improvement in quality of life for humanity? adrenaline rush of doing something clever and sneaky that will take people by surprise? a philosophical cause? doing the right thing? making the world a better place? a solid business model? endless supply of red bull? xbox 360s in the break room? bean-bag chairs? free beer for late night programming sessions?<p>seriously i have read past posts where people withoutprogramming backgrounds post looking for programmers type of posts that seem to get at best ignored or at worst trashed; how can i bypass this seemingly built-in reluctance of programmers to work with people unlike yourselves technically but like yourselves inother ways and with different skill sets that would complement your own for a more balanced whole? if you click my profile theres an email if you wish to contact me directly<p>thanks in advance!\n",
      "\n",
      "[plinkplonk] i personally found kent becks book very tedious and boring in it    simple classes are bludgeoned into submission through the over use of tests <p>from ganssles article at <a href= <LINK> >xps motivating guru kent beck also has a new book out test driven development addison wesley 2003 isbn 0-321-14653-0 focuses on xps testing practice<p>i bought the book because im fascinated with testing its usually done as an afterthought and rarely hits the hard conditions unit tests are notoriously poor the programmer runs his new function through the simplest of situations totally ignoring timing issues or boundary conditions so of course the function passes only to inflict the team with agony when integrated into the entire system xps idea of writing the tests in parallel with the code is quite brilliant; only then do we see all possible conditions that can occur<p>beck argues for building tests first and deriving the code from these tests its sort of like building a comprehensive final exam and then designing a class from that an intriguing idea<p>but x what if the test is wrong? test driven development tdd then guarantees the code will be wrong as well<p>worse tdd calls for building even the smallest project by implementing the minimal functionality needed to do anything need a function to compute the fibonacci series? create the simplest possible test first x in this case check to see that fibonnaci0 is 0 then write a function that passes that test try fibonnaci1; that breaks the test so recode both the test and the function iterate till correct<p>the book shows how to build a factorial program which results in 91 lines of code and 89 of test after 125 compilations! klaxons sound common sense alarms trip<p>agile proponents love the interactive and fast action of this sort of method but programming isnt about playing doom and quake if youre looking for an adrenaline rush try bungee jumping<p>125 compilations for a trivial bit of code is not fast dynamic? you bet but not fast<p><p><p>test  <i>driven<i> development is not quite the same as having unit tests or automated tests which i believe the poster asked for the jury is still very much out on how useful tdd and xp for that matter really is <p>many talented programmers believe xptdd is essentially hypethis is not to say pius is wrong just to add a note of caution be skeptical of the xp hype machine<p>try it and decide for yourself is probably the best advice possible\n",
      "\n",
      "[nostrademons] im going to say something heretical here: i dont think entrepreneurs should base their companies off the latest advances in computer science  problem is many of them are really bleeding edge and even the researchers themselves dont know all the implications for them  <i>nobody<i> has a clue where they might lead or if anyone will ever find them useful<p>instead you should look for the stuff that came out of academia 20 years ago but was rejected as unfeasible useless or just plain idiotic  then keep an eye on economic trends that change the assumptions that made those discoveries useless  if you keep in mind a large enough set of rejected technologies and a large enough set of economic changes eventually youll find a match between them<p>some examples:<p>the architecture performance and programming techniques for early microcomputers mimicked 1950s mainframe technology  many of the features of pc oses were considered incredibly backwards at the time - no multitasking segmented memory assembly language coding  yet this primitive hardware cost perhaps 110000th of a 1950s mainframe and fit on a desk  this opened up a whole new market one that was willing to put up with buggy software single-tasking and limited functionality<p>java consists mostly of poor implementations of ideas from the 1960s and 1970s  garbarge collection was invented in 1960; object orientation in 1968; monitors in 1978; virtual machines in the early 1970s  yet java targetted the pc internet and embedded device market that had previously been limping along with cc++ and assembly  to them these innovations were new and performance of devices was just barely improving to the point where they were becoming feasible<p>hypertext was invented in 1960- actually you could argue that vannevar bush came out with the concept in 1945  but there was no easy physical way to put together large amounts of information so ted nelsons xanadu project went nowhere  fast forward to 1991: the internet had linked together most research institutions and pcs were becoming powerful enough to support graphical browsing  when tim berners-lee put the www up there was a ready infrastructure just waiting to be expanded  and the rest is history<p>pc video has been around since the mid-1990s: i remember recording onto a mac centris 660av in 1993  flash has also been around since then as has the internet  previous attempts to combine them failed miserably  yet youtube succeeded in 2005 because a bunch of factors in the environments had changed  people were now comfortable sharing things online and many people now have broadband access  cell-phone video makes it really easy to record without expensive equipment  and the rise of myspace and blogs made it really easy for people to share videos theyd created with their friends\n",
      "\n",
      "[iamelgringo] i moonlight as an er nurse while im finishing my software engineering degree  ive worked icu for a number of years as well<p>it sounds simple to institute a checklist but the key issue isnt the checklist its about allowing nurses to hold doctors accountable and the hospital backing the nurses up in those disputes<p>say youre a night shift icu nurse  your patient craps out at 3am and your intensivist crawls out of bed to come and line up your patient and put them on life support  do you think that dr intensivist with 15 years of school wants to hear at 3am is a nurse with an associates degree tell him to stop what hes doing and start over because he didnt wash his hands properly before starting  ive had charts thrown at me for stuff like that<p>this issue is accountability and incentives  this plan places accountability on the doctors but it puts a lot of strain on the doctornurse relationship when that nurse is the one blowing the whistle on the doctor  <p>what we need is an incentive system for doctors  you need both a carrot and a stick  doctors only get paid when the patient is sick  and if the patient gets sicker that doctor spends more time with the patient and bills more  there is no incentive to keeping the patient healthy only payment for taking care of as many sick patients as possible  doctors dont like it they generally want to take good care of patients  they just have to pay of $200000 of student loans and the only way to do that is to rush and see as many patients as possible  <p>if the doctors received a large bonus every year if their lines did not get infected or if their patients did not get a pneumonia when the patient was on life support you better believe that complication rates would go down  <p>if nurses got a small bonus every year based on our infection control practices  wed all wash our hands a lot more often  but we dont  were all paid by the hour on a patient assembly line  <p>the doctors or nurses havent set up this system the insurance system has its just the unintended consequences of our third party payer system  <p>although there are winds of change  medicare is starting to threaten hospitals by not paying them if a patient gets an infection from the hospital\n",
      "\n",
      "[mattjaynes] site requires registration heres the full text:<p>-----------------------------------------<p>takahashi: new idea? electricity researchers work on cutting the cord<p>by dean takahashi<p>mercury news<p>article launched: 04192007 07:12:46 pm pdt<p>-----------------------------------------<p>who ever heard of wireless electricity? seems impossible<p>i wouldnt believe it if i hadnt seen a demo myself at powerbeam a sunnyvale start-up the technology they showed off makes me believe that big revolutionary ideas are still possible in silicon valley - even after decades of innovation dont close down the patent office yet<p>powerbeam co-founders david graham and xiaobing luo showed me how they could power up a little toy with a spinning fan without using either batteries or a wired power source they can do so with an invention that seems suspiciously simple<p>they pointed a laser beam at a solar cell the solar cell collects the light energy from the laser and converts it into electricity light in electricity out<p>then the electricity travels from the solar cell into the device they call it an optical power beam<p>its the same principle that powers your pocket calculator with a solar cell but in this case powerbeam gets a lot more electrical power from a laser as far away as 65 feet<p>in a patent application powerbeam says it can produce much more electrical power than other methods because it has tamed a dangerous laser it uses a powerful laser of the sort that could cut through your hand but it has integrated a safety system allowing it to channel a lot of energy into the solar cell<p>i cant be a good judge about the powerbeam technology other than vouching that the demo worked but i love the vision i believeadvertisementthat someone who pioneers this market will find a bonanza<p>graham envisions someone using a laptop without plugging it in at all you could for instance sit at a cafe or in the middle of a hotel ballroom and draw power from a light fixture above the center of the room a laser atop the light fixture would seek out any solar receptor in the room with help from a detection system such as a camera when it finds it the laser would concentrate its light beam on the laptops solar cell<p>the size of the solar cells needed would vary based on how much power is needed a cell phone could be charged with a solar cell the size of a silver dollar says graham for a laptop the cell would be bigger and be mounted as a pad on the laptops cover if powerbeam systems improve and became popular you wouldnt need batteries for your laptop as you travel<p>another application is security cameras which often need to be placed where its not convenient to string an electrical cord a security camera can run on just four watts which graham says his device can produce using a very small solar cell still another application is to use the powerbeam system to connect high-end audio speakers anywhere in a room without having an unsightly electrical cord attached to it<p>its a big dream for a little company powerbeam is just a two-person company in sunnyvales plug and play tech center a building that houses scores of start-ups the company still has perhaps two years or more before it gets a product on the market but graham says the company has filed for patents on the basic invention and is now talking to potential partners about applications<p>we produce wireless electricity graham says think of us as pg&e our partners will do interesting things with it<p>as for competition it isnt hard to find patents for wireless electricity in the early 1900s radio pioneer nikola tesla unsuccessfully tried to commercialize a wireless electricity invention many wireless power solutions arent really useful because of problems relating to how much power they can transfer over distance<p>last year a research team headed by marin soljacic at the massachusetts institute of technology said it could transfer electricity wirelessly using a concept called electromagnetic resonance powercast a pennsylvania start-up says it has a safe wireless power system that uses radios to transmit power the company says it will be used in lots of devices by the end of 2008 and another start-up wildcharge is preparing to start selling a pad that wirelessly charges cell phones that are placed on top of it<p>powerbeams graham says his solution uniquely combines a powerful laser with a safety system<p>this isnt his first start-up he sold a previous software company to national semiconductor in 2003 for an undisclosed sum after a year at national he left to start something new he dreamed up the powerbeam idea about two years ago and later recruited luo a former national colleague who is an optical scientist<p>the two men were able to get a short-range demo working in december and i saw it work across the width of a sizable room the company is self-funded so far but it plans to raise venture money the solution eventually has to solve somebodys problem and it has to be inexpensive<p>about 10 percent of this is science graham says the rest of it is engineering\n",
      "\n",
      "[mattjaynes] heres the inkling interview:<p>-----------------------------<p><i>adam siegel 33 founder of inkling at inklingmarketscom an online predictive market<i><p><i>didnt the internet craze die back in 2001? why launch an internet business?<i><p>the internet craze didnt die in 2001 companies with no path to profitability no plan and excessive irrational behavior died in 2001 the possibilities of the internet in relation to consumer behavior and transforming business are still as potent as ever<p><i>where did your idea come from?<i><p>our idea came from doing consulting for several large companies and working in one for several years we watched the lack of quality information flow between the hierarchies we saw how people with relevant knowledge whose input should be key in strategic decisions were completely left out of the process and we saw broken business processes for innovation and coming up with new ideas we also read a lot about collective intelligence and the wisdom of crowds paired our understanding of those two worlds and out came the idea to do inkling we certainly werent the first to say prediction markets should be used by corporations but we think were taking an approach that sets us apart from our predecessors and current competitors<p><i>what is your elevator pitch?<i><p>inkling helps you capture the collective wisdom of a diverse group of people to give you insight about what may happen in the future vs relying solely on high paid consultants or individual experts this is important because it can help you mitigate risk make better strategic decisions spawn innovation and entrepreneurship and change your corporate culture<p><i>how is your proposition different from earlier generations of online business?<i><p>online business services beyond ecommerce solutions still usually required an expensive consulting component there also was not traditionally a focus on ease of use weve tried to address both by creating do it yourself tools to allow anyone to manage their own prediction marketplace weve taken something as complex as trading in a stock market mechanism and made it easy enough for our moms to use related weve obsessed on our user-interface and iterate on it constantly to make sure people can use it after all you cant say you sell software that helps you capture the wisdom of a crowd if the crowd canãât use your software<p><i>how will you make money?<i><p>we make money by selling service agreements to large and small businesses to set up and maintain prediction marketplaces we also do a fair amount of customization work for our larger clients<p><i>why will you succeed? what are your biggest successes so far?<i><p>in less than a year we have attracted several thousand users to our public marketplace and have about 20 clients we are working with abbott labs here in chicago abc-kgo in san francisco the government of singapore aldertrack think tanks a video game maker and an array array of small businesses and non-profits we think we will continue to see success because of our well designed product and because we think this is a blue sky market that people are just beginning to think about as a way to changing the way they do business we also think were going to be successful because we are largely self-funded when the success of your business means you can or cannot pay the mortgage and your bills it makes you a little hungrier<p><i>what is your age and previous business experience?<i><p>the two co-founders of inkling are adam siegel and nate kontny we are 33 and 29 respectively adam worked at accenture here in chicago for 10 years in the accenture technology labs and was a senior manager when he left nate worked at accenture as well in the same group and left as a consultant to work as a senior developer at digital river<p><i>have you received funding? if so how much and from whom?<i><p>we received a small amount of funding 18k from ycombinator when we incorporated but have taken no funding since\n",
      "\n",
      "[bootload] <i> the one-hit wonder is never the guy who creates a new type of music <i><p>i really like this article it has an opinion bit sarcastic and tells a good story and totally misses the point lets start using the music industry analogy <p>firstly all the guys trying out in the contest are mostly musicians musicians that can firstly have enough skill to play instruments have the youth energy and attitude to create their own tunes and sound they come from a different era of their predecessors turned off by the gimmicky clothes fancy hairdos and makeup of binary boys of the 80s and 90s <p>more important they are students of music they have a band can play their own music but are missing something not talent not ideas well mostly but the knowledge and chance to play a good gig and record and commercialise  do they sell out and re-create the cheesy sounds of the middle of the road <i>windbag recording studios<i>? do they defect to the <i>artsy experimental sol records<i>?<p>no they know in their heart there is a new sound more importantly they know there is a growing audience that is looking for a new sound a new sound that says <i>screw you record companies we can do it for ourselves we dont care what you think %$ush off &!@^@!!! <i>  and so begins the bad-boy image<p>now lets look at the exec hes a <i>rollins<i> type guy had quite a few hits way back and understands the music industry more importantly whats wrong with it  there is a gap a big gap all the <i>suits<i> are funding bands with <i>mega-dollars<i> for wardrobe explosions and experimental albums with 27 minute guitar solos  <p>so along with a few other band members and roadies they create a company and  hatch a plan to blow the other record companies and distributors out of the water  by reducing the cost to sign nurture and  release <i>unknown<i> bands and make some profit at the same time nurturing talent something the big boys have seem to have forgotten <p>thats right unknown bands untested talented raw and more importantly ones that want to succeed at all costs with an attitude that makes the older more established bands sneer at the youngsters with their clunky looking instruments ripped t-shirts and shorts and attitude they sneer also because they realise these youngsters  can do what they cannot do faster with less money still managing to listen to their audience and evolve where required<p>then one has a hit others in the label start getting serious airplay  the suits take notice and a new <i>sound<i> is created<p>sound fanciful? well im really just re-telling the story of punk-music a movement that smashed the pomposity of the glam-rock 70s and while short lived and patchy allowed a core group of musicians to succeed where they otherwise they could not have in the process giving us lou reed pretenders romones blondie pattie smith talking heads etc <p>yc is that anti-establishment incarnation of punk music in software long live <i>minimalism speed and arrogance<i> ~ <a href= <LINK> >\n",
      "\n"
     ]
    }
   ],
   "source": [
    "trained_model = 'trained_model.yaml'\n",
    "trained_weights = 'trained_weights.h5'\n",
    "\n",
    "# load YAML and create model\n",
    "with open(DATADIR+trained_model, 'r') as yaml_file:\n",
    "    loaded_model_yaml = yaml_file.read()\n",
    "    loaded_model = model_from_yaml(loaded_model_yaml)\n",
    "\n",
    "# load weights into new model\n",
    "loaded_model.load_weights(DATADIR+trained_weights)\n",
    "print(\"Loaded model from disk\")\n",
    "\n",
    "preds = loaded_model.predict(indexed)\n",
    "preds.max(axis=0)\n",
    "\n",
    "import pandas as pd\n",
    "df = pd.DataFrame({'prob':preds[:, 1], 'actual': actual_labels, 'text':text_lines[:-1]})\n",
    "high_prob = df.sort_values('prob').head(20)\n",
    "for ix, row in high_prob.iterrows():\n",
    "    print(\"[{}] {}\\n\".format(row.actual, row.text.replace(',', ' ').strip()))\n"
   ]
  },
  {
   "cell_type": "markdown",
   "metadata": {},
   "source": [
    "# Download live comments"
   ]
  },
  {
   "cell_type": "code",
   "execution_count": 50,
   "metadata": {},
   "outputs": [],
   "source": [
    "# import json, urllib3\n",
    "\n",
    "# response = urllib3.urlopen('https://hacker-news.firebaseio.com/v0/topstories.json?print=pretty')\n",
    "# html = response.read()\n",
    "\n",
    "# base_url =  'https://hacker-news.firebaseio.com/v0/item/{}.json?print=pretty'\n",
    "# top_story_ids = json.loads(html)\n",
    "# for story in top_story_ids:\n",
    "#     response = urllib3.urlopen(base_url.format(story))\n",
    "#     print(response.read())"
   ]
  },
  {
   "cell_type": "code",
   "execution_count": 58,
   "metadata": {},
   "outputs": [],
   "source": [
    "import requests, datetime"
   ]
  },
  {
   "cell_type": "code",
   "execution_count": 116,
   "metadata": {},
   "outputs": [
    {
     "data": {
      "text/plain": [
       "19031698"
      ]
     },
     "execution_count": 116,
     "metadata": {},
     "output_type": "execute_result"
    }
   ],
   "source": [
    "r = requests.get('https://hacker-news.firebaseio.com/v0/maxitem.json')\n",
    "max_id = r.json()\n",
    "max_id"
   ]
  },
  {
   "cell_type": "code",
   "execution_count": 117,
   "metadata": {},
   "outputs": [
    {
     "data": {
      "application/vnd.jupyter.widget-view+json": {
       "model_id": "a28da09ba95a448193471933e0762e5b",
       "version_major": 2,
       "version_minor": 0
      },
      "text/plain": [
       "HBox(children=(IntProgress(value=0), HTML(value='')))"
      ]
     },
     "metadata": {},
     "output_type": "display_data"
    },
    {
     "name": "stdout",
     "output_type": "stream",
     "text": [
      "\n"
     ]
    }
   ],
   "source": [
    "template = 'https://hacker-news.firebaseio.com/v0/item/{}.json'\n",
    "item_count = 100\n",
    "\n",
    "dts = []\n",
    "\n",
    "with open(DATADIR+'raw_texts.txt', 'w') as f:\n",
    "    for i in tqdm(range(max_id-item_count, max_id)):\n",
    "        r = requests.get(template.format(i))\n",
    "        item = r.json()\n",
    "        if item['type'] != 'comment': continue\n",
    "        dts.append(datetime.datetime.fromtimestamp(item['time']))\n",
    "        try:\n",
    "            f.write('[{}] '.format(i) + item['text'].replace('\\n','')+'\\n')\n",
    "        except KeyError:\n",
    "            pass\n",
    "#     print('{:%H:%M}'.format(dt))"
   ]
  },
  {
   "cell_type": "code",
   "execution_count": null,
   "metadata": {},
   "outputs": [],
   "source": [
    "! head data/raw_texts.txt"
   ]
  },
  {
   "cell_type": "code",
   "execution_count": null,
   "metadata": {
    "scrolled": true
   },
   "outputs": [],
   "source": [
    "item"
   ]
  },
  {
   "cell_type": "code",
   "execution_count": null,
   "metadata": {},
   "outputs": [],
   "source": [
    "dt = datetime.datetime.fromtimestamp(item['time'])\n",
    "'{:%H:%M}'.format(dt)"
   ]
  },
  {
   "cell_type": "code",
   "execution_count": null,
   "metadata": {},
   "outputs": [],
   "source": [
    "l = []\n",
    "for i in range(len(dts)-1):\n",
    "    l.append((dts[i+1] - dts[i]).seconds)\n",
    "    \n",
    "print(np.mean(l))"
   ]
  },
  {
   "cell_type": "code",
   "execution_count": 118,
   "metadata": {},
   "outputs": [
    {
     "data": {
      "application/vnd.jupyter.widget-view+json": {
       "model_id": "0afc23bbc4034e2ea60ff139b2bc6c81",
       "version_major": 2,
       "version_minor": 0
      },
      "text/plain": [
       "HBox(children=(IntProgress(value=1, bar_style='info', max=1), HTML(value='')))"
      ]
     },
     "metadata": {},
     "output_type": "display_data"
    },
    {
     "name": "stdout",
     "output_type": "stream",
     "text": [
      "\n"
     ]
    },
    {
     "data": {
      "application/vnd.jupyter.widget-view+json": {
       "model_id": "9e7872acc55b4fd3b49fbd46f383d987",
       "version_major": 2,
       "version_minor": 0
      },
      "text/plain": [
       "HBox(children=(IntProgress(value=0, max=90), HTML(value='')))"
      ]
     },
     "metadata": {},
     "output_type": "display_data"
    },
    {
     "name": "stdout",
     "output_type": "stream",
     "text": [
      "\n",
      "Loaded model from disk\n",
      "[19031598] very well put!\n",
      "\n",
      "[19031696] just while riding my bike around i have started to remember the different scribbles i see sprayed on the walls i have no doubt someone who is actively looking would be able to do a pretty good job given it seems these people spray the same thing every time\n",
      "\n",
      "[19031600] 24&#x2f;7 pizza called they want their misleading hours of operation back\n",
      "\n",
      "[19031664] i guess the difference is that zuck has over 60% voting control of facebook so he can&#x27;t be forced out\n",
      "\n",
      "[19031673] &gt; hi author here scanning through the comments<p>small note there&#x27;s a typo in the heading of &quot;google cloud sql for posetgresql&quot; ;<p>posetgresql -&gt; postgresql\n",
      "\n",
      "[19031672] the cost of gpus doesn&#x27;t make sense for the compute they offer<p>according the benchmark the fastest 8 gpu node takes about 05 seconds the cost of that node on aws is about 24$&#x2f;hour the 21 node spark cluster takes 6 seconds but it only costs 4$&#x2f;hour<p>an additional benefit with spark is that it can be used for a lot more variety of operations than a gpu<p>this cost disadvantage restricts gpu processing to niche use cases\n",
      "\n",
      "[19031671] please don&#x27;t take hn threads further into ideological flamewar<p><a href= <LINK> >\n",
      "\n",
      "[19031670] tipping an emt is an example of low level corruption - the kind that comes with inadequate pay for government workers lack of opportunities etc  this is frightenly common in a lot of countries and culturally accepted as a kind of nuisance and fact of life<p>i can’t say why this kind of corruption isn’t prevalent in the westyet but i don’t think it’s a fair comparison to the kind of corruption op was describing\n",
      "\n",
      "[19031669] the argument goes as follows if you&#x27;re interested in a capitalist society there exists wealth inequality and with it a <i>power<i> inequality democracy is the belief that every citizen has an equal say in the decisions and affairs that concern him manifestly however in a system with such stark differences in power this cannot be the case just think of how a &quot;commoner&quot; and a billionaire cannot <i>even be compared<i> in terms of resources and power at their disposal &quot;true&quot; democracy is impossible in capitalism as it is in feudalism or in a monarchy or in any system with classes\n",
      "\n",
      "[19031668] we detached this subthread from <a href= <LINK>\n",
      "\n",
      "[19031666] maybe so but please don&#x27;t post unsubstantive comments here\n",
      "\n",
      "[19031665] the repo has a yarnlock file which contains the hashes of all of the dependencies so yarn verifies the dependencies match that at least\n",
      "\n",
      "[19031663] &gt; your copy&#x2f;paste doesn&#x27;t apply to my comment since i didn&#x27;t assume you were incompetent just that you&#x27;d made an overaggressive claim you didn&#x27;t care to back up<p>sorry i assumed you&#x27;re competent enough to figure it out or at least look at the original sources where authors of the change explicitly explain the reason why they do it of course since you assumed that they are incompetent you didn&#x27;t bother to do so instead completely uncharitably assumed that there&#x27;s zero benefit for that\n",
      "\n",
      "[19031675] &gt; software powered by machine learning models leverages data to predict rider supply and driver demand; and data scientists use data to improve machine learning models for better forecasting<p>why does any of that require real-time analysis? what&#x27;s the business need for this being instantaneous? feels very nih\n",
      "\n",
      "[19031662] i love how that small is the opposite of the new macbooks<p>- keyboard vs touchpad<p>- connectivity overload inc 4 headphone jacks ; vs you need a bag full of dongles<p>- thick and small vs thin and wide<p>- practically vs esthetics<p>i don&#x27;t have high hopes of seeing it made as described but nice idea i especially like the kvm mode that&#x27;s something i thought about long ago it sounds like an obvious idea easy to implement but i&#x27;ve never seen it done\n",
      "\n",
      "[19031661] is there a way to configure firefox so that a single-use container gets created when certain sites get visited and discarded when they&#x27;re closed?<p>i don&#x27;t want to delete cookies by default since i don&#x27;t like to lose my shopping cart due to accidentally closing a tab in a shop i haven&#x27;t used before but i certainly would like to be able to ban sites that use cookies in a user-hostile manner from storing cookies  permanently<p>it would be even better if mozilla used the voluntary telemetry + manual user feedback to decide which sites benefit from cookies eg web shops and applied this to everything else eg news sites\n",
      "\n",
      "[19031660] you’re right it’s a real shame they didn’t do that\n",
      "\n",
      "[19031659] i&#x27;ve been running ubuntu on a second hand thinkpad for about four years it just works\n",
      "\n",
      "[19031658] i agree that the share of spending on each platform is the most important factor for developers but if market share declines were beginning to affect apple&#x27;s share of mobile usage then that would be a worrying trend for ios developers<p>apple does have far wealthier customers than android but compensating for market share losses by moving ever further up-market would be a dangerous strategy in my view<p>if middle class kids are priced out of ios they&#x27;re unlikely to come back later when they make their own money same for people from less wealthy countries i do not believe that this idea of being the &quot;aspirational product&quot; applies to computing platforms in the same way it may apply to expensive cars<p>but i was just asking questions i&#x27;m not making a claim that any of this is actually happening right now\n",
      "\n",
      "[19031657] personal attacks will get you banned here regardless of how wrong someone else is or how badly you think of them please follow the site guidelines<p><a href= <LINK> >\n",
      "\n"
     ]
    }
   ],
   "source": [
    "%run predict.py"
   ]
  },
  {
   "cell_type": "code",
   "execution_count": 119,
   "metadata": {},
   "outputs": [
    {
     "data": {
      "text/html": [
       "<div>\n",
       "<style scoped>\n",
       "    .dataframe tbody tr th:only-of-type {\n",
       "        vertical-align: middle;\n",
       "    }\n",
       "\n",
       "    .dataframe tbody tr th {\n",
       "        vertical-align: top;\n",
       "    }\n",
       "\n",
       "    .dataframe thead th {\n",
       "        text-align: right;\n",
       "    }\n",
       "</style>\n",
       "<table border=\"1\" class=\"dataframe\">\n",
       "  <thead>\n",
       "    <tr style=\"text-align: right;\">\n",
       "      <th></th>\n",
       "      <th>prob</th>\n",
       "      <th>text</th>\n",
       "    </tr>\n",
       "  </thead>\n",
       "  <tbody>\n",
       "    <tr>\n",
       "      <th>0</th>\n",
       "      <td>0.992649</td>\n",
       "      <td>[19031598],very,well,put!,,,,,,,,,,,,,,,,,,,,,...</td>\n",
       "    </tr>\n",
       "    <tr>\n",
       "      <th>1</th>\n",
       "      <td>0.992252</td>\n",
       "      <td>[19031599],i,once,reported,a,security,bug,,in,...</td>\n",
       "    </tr>\n",
       "    <tr>\n",
       "      <th>2</th>\n",
       "      <td>0.992252</td>\n",
       "      <td>[19031600],24&amp;#x2f;7,pizza,called,they,want,th...</td>\n",
       "    </tr>\n",
       "    <tr>\n",
       "      <th>3</th>\n",
       "      <td>0.992252</td>\n",
       "      <td>[19031601],not,certainly,not,hypothetical,scen...</td>\n",
       "    </tr>\n",
       "    <tr>\n",
       "      <th>4</th>\n",
       "      <td>0.992252</td>\n",
       "      <td>[19031602],in,an,odd,twist,this,is,precisely,w...</td>\n",
       "    </tr>\n",
       "  </tbody>\n",
       "</table>\n",
       "</div>"
      ],
      "text/plain": [
       "       prob                                               text\n",
       "0  0.992649  [19031598],very,well,put!,,,,,,,,,,,,,,,,,,,,,...\n",
       "1  0.992252  [19031599],i,once,reported,a,security,bug,,in,...\n",
       "2  0.992252  [19031600],24&#x2f;7,pizza,called,they,want,th...\n",
       "3  0.992252  [19031601],not,certainly,not,hypothetical,scen...\n",
       "4  0.992252  [19031602],in,an,odd,twist,this,is,precisely,w..."
      ]
     },
     "execution_count": 119,
     "metadata": {},
     "output_type": "execute_result"
    }
   ],
   "source": [
    "df.head()"
   ]
  },
  {
   "cell_type": "markdown",
   "metadata": {},
   "source": [
    "https://news.ycombinator.com/item?id=19025629"
   ]
  },
  {
   "cell_type": "code",
   "execution_count": null,
   "metadata": {},
   "outputs": [],
   "source": []
  }
 ],
 "metadata": {
  "kernelspec": {
   "display_name": "Python 3",
   "language": "python",
   "name": "python3"
  },
  "language_info": {
   "codemirror_mode": {
    "name": "ipython",
    "version": 3
   },
   "file_extension": ".py",
   "mimetype": "text/x-python",
   "name": "python",
   "nbconvert_exporter": "python",
   "pygments_lexer": "ipython3",
   "version": "3.6.8"
  }
 },
 "nbformat": 4,
 "nbformat_minor": 2
}
